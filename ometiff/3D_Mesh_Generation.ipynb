{
 "cells": [
  {
   "cell_type": "code",
   "execution_count": 3,
   "metadata": {},
   "outputs": [],
   "source": [
    "%load_ext autoreload\n",
    "%autoreload 2"
   ]
  },
  {
   "cell_type": "code",
   "execution_count": 3,
   "metadata": {},
   "outputs": [
    {
     "data": {
      "text/plain": [
       "[None]"
      ]
     },
     "execution_count": 3,
     "metadata": {},
     "output_type": "execute_result"
    }
   ],
   "source": [
    "import pathlib\n",
    "\n",
    "import dask.array as da\n",
    "import tifffile\n",
    "import ome_types\n",
    "import vizarr\n",
    "import zarr\n",
    "import requests\n",
    "import io\n",
    "\n",
    "\n",
    "import brick\n",
    "\n",
    "\n",
    "def read_image_from_url(url):\n",
    "    resp = requests.get(url)\n",
    "    # Check that request succeeded\n",
    "    return tiff.imread(io.BytesIO(resp.content))\n",
    "\n",
    "file = \"PATH_TO.ome.tiff\"\n",
    "\n",
    "store = tifffile.imread(file, aszarr=True)\n",
    "#store = read_image_from_url(onlineFile);\n",
    "ome_xml = ome_types.from_tiff(file)\n",
    "channel_names = [c.name for c in ome_xml.images[0].pixels.channels]\n",
    "channel_names"
   ]
  },
  {
   "cell_type": "code",
   "execution_count": 4,
   "metadata": {},
   "outputs": [
    {
     "data": {
      "text/plain": [
       "[Channel(\n",
       "    id='Channel:0:0',\n",
       "    light_path={},\n",
       "    samples_per_pixel=1,\n",
       " )]"
      ]
     },
     "execution_count": 4,
     "metadata": {},
     "output_type": "execute_result"
    }
   ],
   "source": [
    "ome_xml.images[0].pixels.channels"
   ]
  },
  {
   "cell_type": "code",
   "execution_count": 5,
   "metadata": {},
   "outputs": [
    {
     "data": {
      "text/html": [
       "<table>\n",
       "    <tr>\n",
       "        <td>\n",
       "            <table style=\"border-collapse: collapse;\">\n",
       "                <thead>\n",
       "                    <tr>\n",
       "                        <td> </td>\n",
       "                        <th> Array </th>\n",
       "                        <th> Chunk </th>\n",
       "                    </tr>\n",
       "                </thead>\n",
       "                <tbody>\n",
       "                    \n",
       "                    <tr>\n",
       "                        <th> Bytes </th>\n",
       "                        <td> 294.62 MiB </td>\n",
       "                        <td> 739.45 kiB </td>\n",
       "                    </tr>\n",
       "                    \n",
       "                    <tr>\n",
       "                        <th> Shape </th>\n",
       "                        <td> (408, 761, 995) </td>\n",
       "                        <td> (1, 761, 995) </td>\n",
       "                    </tr>\n",
       "                    <tr>\n",
       "                        <th> Dask graph </th>\n",
       "                        <td colspan=\"2\"> 408 chunks in 2 graph layers </td>\n",
       "                    </tr>\n",
       "                    <tr>\n",
       "                        <th> Data type </th>\n",
       "                        <td colspan=\"2\"> uint8 numpy.ndarray </td>\n",
       "                    </tr>\n",
       "                </tbody>\n",
       "            </table>\n",
       "        </td>\n",
       "        <td>\n",
       "        <svg width=\"208\" height=\"170\" style=\"stroke:rgb(0,0,0);stroke-width:1\" >\n",
       "\n",
       "  <!-- Horizontal lines -->\n",
       "  <line x1=\"10\" y1=\"0\" x2=\"38\" y2=\"28\" style=\"stroke-width:2\" />\n",
       "  <line x1=\"10\" y1=\"91\" x2=\"38\" y2=\"120\" style=\"stroke-width:2\" />\n",
       "\n",
       "  <!-- Vertical lines -->\n",
       "  <line x1=\"10\" y1=\"0\" x2=\"10\" y2=\"91\" style=\"stroke-width:2\" />\n",
       "  <line x1=\"11\" y1=\"1\" x2=\"11\" y2=\"93\" />\n",
       "  <line x1=\"12\" y1=\"2\" x2=\"12\" y2=\"94\" />\n",
       "  <line x1=\"14\" y1=\"4\" x2=\"14\" y2=\"96\" />\n",
       "  <line x1=\"16\" y1=\"6\" x2=\"16\" y2=\"97\" />\n",
       "  <line x1=\"17\" y1=\"7\" x2=\"17\" y2=\"99\" />\n",
       "  <line x1=\"19\" y1=\"9\" x2=\"19\" y2=\"100\" />\n",
       "  <line x1=\"20\" y1=\"10\" x2=\"20\" y2=\"102\" />\n",
       "  <line x1=\"22\" y1=\"12\" x2=\"22\" y2=\"103\" />\n",
       "  <line x1=\"23\" y1=\"13\" x2=\"23\" y2=\"105\" />\n",
       "  <line x1=\"25\" y1=\"15\" x2=\"25\" y2=\"106\" />\n",
       "  <line x1=\"26\" y1=\"16\" x2=\"26\" y2=\"108\" />\n",
       "  <line x1=\"28\" y1=\"18\" x2=\"28\" y2=\"110\" />\n",
       "  <line x1=\"29\" y1=\"19\" x2=\"29\" y2=\"111\" />\n",
       "  <line x1=\"31\" y1=\"21\" x2=\"31\" y2=\"113\" />\n",
       "  <line x1=\"32\" y1=\"22\" x2=\"32\" y2=\"114\" />\n",
       "  <line x1=\"34\" y1=\"24\" x2=\"34\" y2=\"116\" />\n",
       "  <line x1=\"35\" y1=\"25\" x2=\"35\" y2=\"117\" />\n",
       "  <line x1=\"37\" y1=\"27\" x2=\"37\" y2=\"119\" />\n",
       "  <line x1=\"38\" y1=\"28\" x2=\"38\" y2=\"120\" style=\"stroke-width:2\" />\n",
       "\n",
       "  <!-- Colored Rectangle -->\n",
       "  <polygon points=\"10.0,0.0 38.94472361809045,28.94472361809045 38.94472361809045,120.72361809045226 10.0,91.77889447236181\" style=\"fill:#8B4903A0;stroke-width:0\"/>\n",
       "\n",
       "  <!-- Horizontal lines -->\n",
       "  <line x1=\"10\" y1=\"0\" x2=\"130\" y2=\"0\" style=\"stroke-width:2\" />\n",
       "  <line x1=\"11\" y1=\"1\" x2=\"131\" y2=\"1\" />\n",
       "  <line x1=\"12\" y1=\"2\" x2=\"132\" y2=\"2\" />\n",
       "  <line x1=\"14\" y1=\"4\" x2=\"134\" y2=\"4\" />\n",
       "  <line x1=\"16\" y1=\"6\" x2=\"136\" y2=\"6\" />\n",
       "  <line x1=\"17\" y1=\"7\" x2=\"137\" y2=\"7\" />\n",
       "  <line x1=\"19\" y1=\"9\" x2=\"139\" y2=\"9\" />\n",
       "  <line x1=\"20\" y1=\"10\" x2=\"140\" y2=\"10\" />\n",
       "  <line x1=\"22\" y1=\"12\" x2=\"142\" y2=\"12\" />\n",
       "  <line x1=\"23\" y1=\"13\" x2=\"143\" y2=\"13\" />\n",
       "  <line x1=\"25\" y1=\"15\" x2=\"145\" y2=\"15\" />\n",
       "  <line x1=\"26\" y1=\"16\" x2=\"146\" y2=\"16\" />\n",
       "  <line x1=\"28\" y1=\"18\" x2=\"148\" y2=\"18\" />\n",
       "  <line x1=\"29\" y1=\"19\" x2=\"149\" y2=\"19\" />\n",
       "  <line x1=\"31\" y1=\"21\" x2=\"151\" y2=\"21\" />\n",
       "  <line x1=\"32\" y1=\"22\" x2=\"152\" y2=\"22\" />\n",
       "  <line x1=\"34\" y1=\"24\" x2=\"154\" y2=\"24\" />\n",
       "  <line x1=\"35\" y1=\"25\" x2=\"155\" y2=\"25\" />\n",
       "  <line x1=\"37\" y1=\"27\" x2=\"157\" y2=\"27\" />\n",
       "  <line x1=\"38\" y1=\"28\" x2=\"158\" y2=\"28\" style=\"stroke-width:2\" />\n",
       "\n",
       "  <!-- Vertical lines -->\n",
       "  <line x1=\"10\" y1=\"0\" x2=\"38\" y2=\"28\" style=\"stroke-width:2\" />\n",
       "  <line x1=\"130\" y1=\"0\" x2=\"158\" y2=\"28\" style=\"stroke-width:2\" />\n",
       "\n",
       "  <!-- Colored Rectangle -->\n",
       "  <polygon points=\"10.0,0.0 130.0,0.0 158.94472361809045,28.94472361809045 38.94472361809045,28.94472361809045\" style=\"fill:#8B4903A0;stroke-width:0\"/>\n",
       "\n",
       "  <!-- Horizontal lines -->\n",
       "  <line x1=\"38\" y1=\"28\" x2=\"158\" y2=\"28\" style=\"stroke-width:2\" />\n",
       "  <line x1=\"38\" y1=\"120\" x2=\"158\" y2=\"120\" style=\"stroke-width:2\" />\n",
       "\n",
       "  <!-- Vertical lines -->\n",
       "  <line x1=\"38\" y1=\"28\" x2=\"38\" y2=\"120\" style=\"stroke-width:2\" />\n",
       "  <line x1=\"158\" y1=\"28\" x2=\"158\" y2=\"120\" style=\"stroke-width:2\" />\n",
       "\n",
       "  <!-- Colored Rectangle -->\n",
       "  <polygon points=\"38.94472361809045,28.94472361809045 158.94472361809045,28.94472361809045 158.94472361809045,120.72361809045226 38.94472361809045,120.72361809045226\" style=\"fill:#ECB172A0;stroke-width:0\"/>\n",
       "\n",
       "  <!-- Text -->\n",
       "  <text x=\"98.944724\" y=\"140.723618\" font-size=\"1.0rem\" font-weight=\"100\" text-anchor=\"middle\" >995</text>\n",
       "  <text x=\"178.944724\" y=\"74.834171\" font-size=\"1.0rem\" font-weight=\"100\" text-anchor=\"middle\" transform=\"rotate(-90,178.944724,74.834171)\">761</text>\n",
       "  <text x=\"14.472362\" y=\"126.251256\" font-size=\"1.0rem\" font-weight=\"100\" text-anchor=\"middle\" transform=\"rotate(45,14.472362,126.251256)\">408</text>\n",
       "</svg>\n",
       "        </td>\n",
       "    </tr>\n",
       "</table>"
      ],
      "text/plain": [
       "dask.array<from-zarr, shape=(408, 761, 995), dtype=uint8, chunksize=(1, 761, 995), chunktype=numpy.ndarray>"
      ]
     },
     "execution_count": 5,
     "metadata": {},
     "output_type": "execute_result"
    }
   ],
   "source": [
    "daskArray = da.from_zarr(store, component=\"4\") # t=0, high-res\n",
    "daskArray"
   ]
  },
  {
   "cell_type": "code",
   "execution_count": 6,
   "metadata": {},
   "outputs": [],
   "source": [
    "from skimage import measure\n",
    "import numpy as np\n",
    "from skimage.draw import ellipsoid\n",
    "import pyvista as pv\n",
    "import matplotlib.pyplot as plt\n",
    "from mpl_toolkits.mplot3d.art3d import Poly3DCollection\n",
    "\n",
    "data = daskArray[:,:,:].compute()\n",
    "\n",
    "level = 1.0 #Value of your data\n",
    "\n",
    "data[data < level] = 0.0\n",
    "data[data > level] = 0.0\n",
    "data[data == level] = 1.0\n"
   ]
  },
  {
   "cell_type": "code",
   "execution_count": 8,
   "metadata": {},
   "outputs": [
    {
     "data": {
      "image/png": "[encoded data removed]",
      "text/plain": [
       "<Figure size 640x480 with 1 Axes>"
      ]
     },
     "metadata": {},
     "output_type": "display_data"
    }
   ],
   "source": [
    "v2, f2, n2, values2 = measure.marching_cubes(volume = data)\n",
    "\n",
    "fig = plt.figure()\n",
    "ax = fig.add_subplot(111, projection='3d')\n",
    "ax.plot_trisurf(v2[:, 0], v2[:,1], f2, v2[:, 2],\n",
    "                linewidth=0.2, antialiased=True)\n",
    "plt.show()\n",
    "\n",
    "## Save as Mesh\n",
    "f2=f2+1\n",
    "\n",
    "#objOutput = input(\"Please enter name for 'obj' file(without .obj extension):  \")\n",
    "newObj = open('segmentation.obj', 'w')\n",
    "for item in v2:\n",
    "    newObj.write(\"v {0} {1} {2}\\n\".format(item[0],item[1],item[2]))\n",
    "\n",
    "for item in n2:\n",
    "    newObj.write(\"vn {0} {1} {2}\\n\".format(item[0],item[1],item[2]))\n",
    "\n",
    "for item in f2:\n",
    "    newObj.write(\"f {0}//{0} {1}//{1} {2}//{2}\\n\".format(item[0],item[1],item[2]))  \n",
    "\n",
    "newObj.close()\n"
   ]
  }
 ],
 "metadata": {
  "kernelspec": {
   "display_name": "Python 3 (ipykernel)",
   "language": "python",
   "name": "python3"
  },
  "language_info": {
   "codemirror_mode": {
    "name": "ipython",
    "version": 3
   },
   "file_extension": ".py",
   "mimetype": "text/x-python",
   "name": "python",
   "nbconvert_exporter": "python",
   "pygments_lexer": "ipython3",
   "version": "3.11.7"
  },
  "widgets": {
   "application/vnd.jupyter.widget-state+json": {
    "state": {
     "0e20cac77ee640f29e5be95ce2f0d744": {
      "model_module": "anywidget",
      "model_module_version": "0.9.0",
      "model_name": "AnyModel",
      "state": {
       "_anywidget_id": "vizarr._widget.Viewer",
       "_configs": [
        {
         "channel_axis": 1,
         "colors": [
          "#00FFFF",
          "#FFFF00",
          "#FF00FF",
          "#FF0000",
          "#00FF00",
          "#0000FF",
          "#FFFFFF",
          "#FFFFFF",
          "#FFFFFF",
          "#FFFFFF",
          "#FFFFFF",
          "#FFFFFF",
          "#FFFFFF",
          "#FFFFFF",
          "#FFFFFF",
          "#FFFFFF",
          "#FFFFFF",
          "#FFFFFF"
         ],
         "names": [
          "preAF - DAPI autofluorescence",
          "preAF - eGFP autofluorescence",
          "preAF - DsRed autofluorescence",
          "MxIF-Cyc1 - Hoescht - (Nuclei)",
          "MxIF-Cyc1 - NCC - (DTs and CNTs)",
          "MxIF-Cyc1 - Uromodulin/THP - (Ascending thick limb)",
          "MxIF-Cyc1 - SLC5A12 - (PTs (S1/S2))",
          "MxIF-Cyc2 - Hoescht - (Nuclei)",
          "MxIF-Cyc2 - Collagen-IV (α5) - (Basement membrane (glomeruli/unknown tubules))",
          "MxIF-Cyc2 - CD31 - (Endothelial cells)",
          "MxIF-Cyc2 - AQP2 - (CDs and CNTs)",
          "MxIF-Cyc3 - Hoescht - (Nuclei)",
          "MxIF-Cyc3 - Podocalyxin - (Glomeruli/Podocytes)",
          "MxIF-Cyc3 - Calbindin - (DTs, CNTs and CCDs)",
          "MxIF-Cyc3 - α-SMA - (Vascular smooth muscle cells)",
          "MxIF-Cyc4 - Hoescht - (Nuclei)",
          "MxIF-Cyc4 - AQP1 - (PTs, descending thin limb)",
          "MxIF-Cyc4 - Collagen-IV (α1/2) - (basement membranes)"
         ],
         "source": {
          "id": 0
         }
        }
       ],
       "_esm": "import * as vizarr from \"https://hms-dbmi.github.io/vizarr/index.js\";\nimport debounce from \"https://esm.sh/just-debounce-it@3\";\n\n/**\n * @template T\n * @param {import(\"npm:@anywidget/types\").AnyModel} model\n * @param {any} payload\n * @param {{ timeout?: number }} [options]\n * @returns {Promise<{ data: T, buffers: DataView[] }>}\n */\nfunction send(model, payload, { timeout = 3000 } = {}) {\n\tlet uuid = globalThis.crypto.randomUUID();\n\treturn new Promise((resolve, reject) => {\n\t\tlet timer = setTimeout(() => {\n\t\t\treject(new Error(`Promise timed out after ${timeout} ms`));\n\t\t\tmodel.off(\"msg:custom\", handler);\n\t\t}, timeout);\n\t\t/**\n\t\t * @param {{ uuid: string, payload: T }} msg\n\t\t * @param {DataView[]} buffers\n\t\t */\n\t\tfunction handler(msg, buffers) {\n\t\t\tif (!(msg.uuid === uuid)) return;\n\t\t\tclearTimeout(timer);\n\t\t\tresolve({ data: msg.payload, buffers });\n\t\t\tmodel.off(\"msg:custom\", handler);\n\t\t}\n\t\tmodel.on(\"msg:custom\", handler);\n\t\tmodel.send({ payload, uuid });\n\t});\n}\n\n/**\n * @param {import(\"npm:@anywidget/types\").AnyModel} model\n * @param {string | { id: string }} source\n */\nfunction get_source(model, source) {\n\tif (typeof source === \"string\") {\n\t\treturn source;\n\t}\n\t// create a python\n\treturn {\n\t\t/**\n\t\t * @param {string} key\n\t\t * @return {Promise<ArrayBuffer>}\n\t\t */\n\t\tasync getItem(key) {\n\t\t\tconst { data, buffers } = await send(model, {\n\t\t\t\ttype: \"get\",\n\t\t\t\tsource_id: source.id,\n\t\t\t\tkey,\n\t\t\t});\n\t\t\tif (!data.success) {\n\t\t\t\tthrow { __zarr__: \"KeyError\" };\n\t\t\t}\n\t\t\treturn buffers[0].buffer;\n\t\t},\n\t\t/**\n\t\t * @param {string} key\n\t\t * @return {Promise<boolean>}\n\t\t */\n\t\tasync containsItem(key) {\n\t\t\tconst { data } = await send(model, {\n\t\t\t\ttype: \"has\",\n\t\t\t\tsource_id: source.id,\n\t\t\t\tkey,\n\t\t\t});\n\t\t\treturn data;\n\t\t},\n\t};\n}\n\n/**\n * @typedef Model\n * @property {string} height\n * @property {ViewState=} view_state\n * @property {{ source: string | { id: string }}[]} _configs\n */\n\n/**\n * @typedef ViewState\n * @property {number} zoom\n * @property {[x: number, y: number]} target\n */\n\n/** @type {import(\"npm:@anywidget/types\").Render<Model>} */\nexport async function render({ model, el }) {\n\tlet div = document.createElement(\"div\");\n\t{\n\t\tdiv.style.height = model.get(\"height\");\n\t\tdiv.style.backgroundColor = \"black\";\n\t\tmodel.on(\"change:height\", () => {\n\t\t\tdiv.style.height = model.get(\"height\");\n\t\t});\n\t}\n\tlet viewer = await vizarr.createViewer(div);\n\t{\n\t\tmodel.on(\"change:view_state\", () => {\n\t\t\tviewer.setViewState(model.get(\"view_state\"));\n\t\t});\n\t\tviewer.on(\n\t\t\t\"viewStateChange\",\n\t\t\tdebounce((/** @type {ViewState} */ update) => {\n\t\t\t\tmodel.set(\"view_state\", update);\n\t\t\t\tmodel.save_changes();\n\t\t\t}, 200),\n\t\t);\n\t}\n\t{\n\t\t// sources are append-only now\n\t\tfor (const config of model.get(\"_configs\")) {\n\t\t\tconst source = get_source(model, config.source);\n\t\t\tviewer.addImage({ ...config, source });\n\t\t}\n\t\tmodel.on(\"change:_configs\", () => {\n\t\t\tconst last = model.get(\"_configs\").at(-1);\n\t\t\tif (!last) return;\n\t\t\tconst source = get_source(model, last.source);\n\t\t\tviewer.addImage({ ...last, source });\n\t\t});\n\t}\n\tel.appendChild(div);\n}\n",
       "_model_module": "anywidget",
       "_model_module_version": "0.9.0",
       "_model_name": "AnyModel",
       "_view_module": "anywidget",
       "_view_module_version": "0.9.0",
       "_view_name": "AnyView",
       "height": "500px",
       "layout": "IPY_MODEL_d279ed187e334132a75f8b4412877c46",
       "view_state": {
        "target": [
         5646.73202929855,
         4371.506352774353
        ],
        "zoom": -3.136547501512895
       }
      }
     },
     "17f3b91c80e44204a8937d21afa361d8": {
      "model_module": "ipytree",
      "model_module_version": "^0.2",
      "model_name": "NodeModel",
      "state": {
       "_id": "17b7ab76-c27e-465c-b337-9d13263cc342",
       "_model_module_version": "^0.2",
       "_view_module_version": "^0.2",
       "disabled": true,
       "icon": "table",
       "name": "3 (5, 18, 778, 1296) uint16",
       "opened": false
      }
     },
     "310524895e12438c87f612349473a96c": {
      "model_module": "@jupyter-widgets/base",
      "model_module_version": "2.0.0",
      "model_name": "LayoutModel",
      "state": {}
     },
     "35710a89b83545e7871c34069eb464a9": {
      "model_module": "anywidget",
      "model_module_version": "0.9.0",
      "model_name": "AnyModel",
      "state": {
       "_anywidget_id": "vizarr._widget.Viewer",
       "_configs": [
        {
         "channel_axis": 1,
         "colors": [
          "#00FFFF",
          "#FFFF00",
          "#FF00FF",
          "#FF0000",
          "#00FF00",
          "#0000FF",
          "#FFFFFF",
          "#FFFFFF",
          "#FFFFFF",
          "#FFFFFF",
          "#FFFFFF",
          "#FFFFFF",
          "#FFFFFF",
          "#FFFFFF",
          "#FFFFFF",
          "#FFFFFF",
          "#FFFFFF",
          "#FFFFFF"
         ],
         "names": [
          "preAF - DAPI autofluorescence",
          "preAF - eGFP autofluorescence",
          "preAF - DsRed autofluorescence",
          "MxIF-Cyc1 - Hoescht - (Nuclei)",
          "MxIF-Cyc1 - NCC - (DTs and CNTs)",
          "MxIF-Cyc1 - Uromodulin/THP - (Ascending thick limb)",
          "MxIF-Cyc1 - SLC5A12 - (PTs (S1/S2))",
          "MxIF-Cyc2 - Hoescht - (Nuclei)",
          "MxIF-Cyc2 - Collagen-IV (α5) - (Basement membrane (glomeruli/unknown tubules))",
          "MxIF-Cyc2 - CD31 - (Endothelial cells)",
          "MxIF-Cyc2 - AQP2 - (CDs and CNTs)",
          "MxIF-Cyc3 - Hoescht - (Nuclei)",
          "MxIF-Cyc3 - Podocalyxin - (Glomeruli/Podocytes)",
          "MxIF-Cyc3 - Calbindin - (DTs, CNTs and CCDs)",
          "MxIF-Cyc3 - α-SMA - (Vascular smooth muscle cells)",
          "MxIF-Cyc4 - Hoescht - (Nuclei)",
          "MxIF-Cyc4 - AQP1 - (PTs, descending thin limb)",
          "MxIF-Cyc4 - Collagen-IV (α1/2) - (basement membranes)"
         ],
         "source": {
          "id": 0
         }
        }
       ],
       "_esm": "import * as vizarr from \"https://hms-dbmi.github.io/vizarr/index.js\";\nimport debounce from \"https://esm.sh/just-debounce-it@3\";\n\n/**\n * @template T\n * @param {import(\"npm:@anywidget/types\").AnyModel} model\n * @param {any} payload\n * @param {{ timeout?: number }} [options]\n * @returns {Promise<{ data: T, buffers: DataView[] }>}\n */\nfunction send(model, payload, { timeout = 3000 } = {}) {\n\tlet uuid = globalThis.crypto.randomUUID();\n\treturn new Promise((resolve, reject) => {\n\t\tlet timer = setTimeout(() => {\n\t\t\treject(new Error(`Promise timed out after ${timeout} ms`));\n\t\t\tmodel.off(\"msg:custom\", handler);\n\t\t}, timeout);\n\t\t/**\n\t\t * @param {{ uuid: string, payload: T }} msg\n\t\t * @param {DataView[]} buffers\n\t\t */\n\t\tfunction handler(msg, buffers) {\n\t\t\tif (!(msg.uuid === uuid)) return;\n\t\t\tclearTimeout(timer);\n\t\t\tresolve({ data: msg.payload, buffers });\n\t\t\tmodel.off(\"msg:custom\", handler);\n\t\t}\n\t\tmodel.on(\"msg:custom\", handler);\n\t\tmodel.send({ payload, uuid });\n\t});\n}\n\n/**\n * @param {import(\"npm:@anywidget/types\").AnyModel} model\n * @param {string | { id: string }} source\n */\nfunction get_source(model, source) {\n\tif (typeof source === \"string\") {\n\t\treturn source;\n\t}\n\t// create a python\n\treturn {\n\t\t/**\n\t\t * @param {string} key\n\t\t * @return {Promise<ArrayBuffer>}\n\t\t */\n\t\tasync getItem(key) {\n\t\t\tconst { data, buffers } = await send(model, {\n\t\t\t\ttype: \"get\",\n\t\t\t\tsource_id: source.id,\n\t\t\t\tkey,\n\t\t\t});\n\t\t\tif (!data.success) {\n\t\t\t\tthrow { __zarr__: \"KeyError\" };\n\t\t\t}\n\t\t\treturn buffers[0].buffer;\n\t\t},\n\t\t/**\n\t\t * @param {string} key\n\t\t * @return {Promise<boolean>}\n\t\t */\n\t\tasync containsItem(key) {\n\t\t\tconst { data } = await send(model, {\n\t\t\t\ttype: \"has\",\n\t\t\t\tsource_id: source.id,\n\t\t\t\tkey,\n\t\t\t});\n\t\t\treturn data;\n\t\t},\n\t};\n}\n\n/**\n * @typedef Model\n * @property {string} height\n * @property {ViewState=} view_state\n * @property {{ source: string | { id: string }}[]} _configs\n */\n\n/**\n * @typedef ViewState\n * @property {number} zoom\n * @property {[x: number, y: number]} target\n */\n\n/** @type {import(\"npm:@anywidget/types\").Render<Model>} */\nexport async function render({ model, el }) {\n\tlet div = document.createElement(\"div\");\n\t{\n\t\tdiv.style.height = model.get(\"height\");\n\t\tdiv.style.backgroundColor = \"black\";\n\t\tmodel.on(\"change:height\", () => {\n\t\t\tdiv.style.height = model.get(\"height\");\n\t\t});\n\t}\n\tlet viewer = await vizarr.createViewer(div);\n\t{\n\t\tmodel.on(\"change:view_state\", () => {\n\t\t\tviewer.setViewState(model.get(\"view_state\"));\n\t\t});\n\t\tviewer.on(\n\t\t\t\"viewStateChange\",\n\t\t\tdebounce((/** @type {ViewState} */ update) => {\n\t\t\t\tmodel.set(\"view_state\", update);\n\t\t\t\tmodel.save_changes();\n\t\t\t}, 200),\n\t\t);\n\t}\n\t{\n\t\t// sources are append-only now\n\t\tfor (const config of model.get(\"_configs\")) {\n\t\t\tconst source = get_source(model, config.source);\n\t\t\tviewer.addImage({ ...config, source });\n\t\t}\n\t\tmodel.on(\"change:_configs\", () => {\n\t\t\tconst last = model.get(\"_configs\").at(-1);\n\t\t\tif (!last) return;\n\t\t\tconst source = get_source(model, last.source);\n\t\t\tviewer.addImage({ ...last, source });\n\t\t});\n\t}\n\tel.appendChild(div);\n}\n",
       "_model_module": "anywidget",
       "_model_module_version": "0.9.0",
       "_model_name": "AnyModel",
       "_view_module": "anywidget",
       "_view_module_version": "0.9.0",
       "_view_name": "AnyView",
       "height": "500px",
       "layout": "IPY_MODEL_d1891049c4b04be79a2f11270e42d04f",
       "view_state": {
        "target": [
         5186,
         3112
        ],
        "zoom": -3.9597701552114675
       }
      }
     },
     "366b200b68db48b38695429196299c7e": {
      "model_module": "ipytree",
      "model_module_version": "^0.2",
      "model_name": "NodeModel",
      "state": {
       "_id": "371da9b4-8da2-4cde-bbd3-4e4492824752",
       "_model_module_version": "^0.2",
       "_view_module_version": "^0.2",
       "disabled": true,
       "name": "/",
       "nodes": [
        "IPY_MODEL_cc79644913d449a6b55844df1b328bdc",
        "IPY_MODEL_ead2ee63c9694650b3c750c986507aa5",
        "IPY_MODEL_82b2f3403e5d4579bf4ddf60bc793d0b",
        "IPY_MODEL_17f3b91c80e44204a8937d21afa361d8"
       ],
       "opened": false
      }
     },
     "4633fa3169d5455a8976ff94798350cb": {
      "model_module": "@jupyter-widgets/base",
      "model_module_version": "2.0.0",
      "model_name": "LayoutModel",
      "state": {}
     },
     "82b2f3403e5d4579bf4ddf60bc793d0b": {
      "model_module": "ipytree",
      "model_module_version": "^0.2",
      "model_name": "NodeModel",
      "state": {
       "_id": "c5101afe-6661-4a8e-b5e0-4028248e3660",
       "_model_module_version": "^0.2",
       "_view_module_version": "^0.2",
       "disabled": true,
       "icon": "table",
       "name": "2 (5, 18, 1556, 2593) uint16",
       "opened": false
      }
     },
     "bb048d0bb1eb4f4cb7fdb5d530f9aa35": {
      "model_module": "ipytree",
      "model_module_version": "^0.2",
      "model_name": "TreeModel",
      "state": {
       "_model_module_version": "^0.2",
       "_view_module_version": "^0.2",
       "layout": "IPY_MODEL_310524895e12438c87f612349473a96c",
       "nodes": [
        "IPY_MODEL_366b200b68db48b38695429196299c7e"
       ]
      }
     },
     "cc79644913d449a6b55844df1b328bdc": {
      "model_module": "ipytree",
      "model_module_version": "^0.2",
      "model_name": "NodeModel",
      "state": {
       "_id": "a82f4406-afd7-4e0b-8e78-b278784930c5",
       "_model_module_version": "^0.2",
       "_view_module_version": "^0.2",
       "disabled": true,
       "icon": "table",
       "name": "0 (5, 18, 6224, 10372) uint16",
       "opened": false
      }
     },
     "d1891049c4b04be79a2f11270e42d04f": {
      "model_module": "@jupyter-widgets/base",
      "model_module_version": "2.0.0",
      "model_name": "LayoutModel",
      "state": {}
     },
     "d279ed187e334132a75f8b4412877c46": {
      "model_module": "@jupyter-widgets/base",
      "model_module_version": "2.0.0",
      "model_name": "LayoutModel",
      "state": {}
     },
     "ead2ee63c9694650b3c750c986507aa5": {
      "model_module": "ipytree",
      "model_module_version": "^0.2",
      "model_name": "NodeModel",
      "state": {
       "_id": "a58b4b15-041c-4dba-b70a-ebcfe6de9b8d",
       "_model_module_version": "^0.2",
       "_view_module_version": "^0.2",
       "disabled": true,
       "icon": "table",
       "name": "1 (5, 18, 3112, 5186) uint16",
       "opened": false
      }
     },
     "edb9282ce3cb43a39fca5b7b9dd05337": {
      "model_module": "anywidget",
      "model_module_version": "0.9.0",
      "model_name": "AnyModel",
      "state": {
       "_anywidget_id": "vizarr._widget.Viewer",
       "_configs": [
        {
         "channel_axis": 1,
         "colors": [
          "#00FFFF",
          "#FFFF00",
          "#FF00FF",
          "#FF0000",
          "#00FF00",
          "#0000FF",
          "#FFFFFF",
          "#FFFFFF",
          "#FFFFFF",
          "#FFFFFF",
          "#FFFFFF",
          "#FFFFFF",
          "#FFFFFF",
          "#FFFFFF",
          "#FFFFFF",
          "#FFFFFF",
          "#FFFFFF",
          "#FFFFFF"
         ],
         "names": [
          "preAF - DAPI autofluorescence",
          "preAF - eGFP autofluorescence",
          "preAF - DsRed autofluorescence",
          "MxIF-Cyc1 - Hoescht - (Nuclei)",
          "MxIF-Cyc1 - NCC - (DTs and CNTs)",
          "MxIF-Cyc1 - Uromodulin/THP - (Ascending thick limb)",
          "MxIF-Cyc1 - SLC5A12 - (PTs (S1/S2))",
          "MxIF-Cyc2 - Hoescht - (Nuclei)",
          "MxIF-Cyc2 - Collagen-IV (α5) - (Basement membrane (glomeruli/unknown tubules))",
          "MxIF-Cyc2 - CD31 - (Endothelial cells)",
          "MxIF-Cyc2 - AQP2 - (CDs and CNTs)",
          "MxIF-Cyc3 - Hoescht - (Nuclei)",
          "MxIF-Cyc3 - Podocalyxin - (Glomeruli/Podocytes)",
          "MxIF-Cyc3 - Calbindin - (DTs, CNTs and CCDs)",
          "MxIF-Cyc3 - α-SMA - (Vascular smooth muscle cells)",
          "MxIF-Cyc4 - Hoescht - (Nuclei)",
          "MxIF-Cyc4 - AQP1 - (PTs, descending thin limb)",
          "MxIF-Cyc4 - Collagen-IV (α1/2) - (basement membranes)"
         ],
         "source": {
          "id": 0
         }
        }
       ],
       "_esm": "import * as vizarr from \"https://hms-dbmi.github.io/vizarr/index.js\";\nimport debounce from \"https://esm.sh/just-debounce-it@3\";\n\n/**\n * @template T\n * @param {import(\"npm:@anywidget/types\").AnyModel} model\n * @param {any} payload\n * @param {{ timeout?: number }} [options]\n * @returns {Promise<{ data: T, buffers: DataView[] }>}\n */\nfunction send(model, payload, { timeout = 3000 } = {}) {\n\tlet uuid = globalThis.crypto.randomUUID();\n\treturn new Promise((resolve, reject) => {\n\t\tlet timer = setTimeout(() => {\n\t\t\treject(new Error(`Promise timed out after ${timeout} ms`));\n\t\t\tmodel.off(\"msg:custom\", handler);\n\t\t}, timeout);\n\t\t/**\n\t\t * @param {{ uuid: string, payload: T }} msg\n\t\t * @param {DataView[]} buffers\n\t\t */\n\t\tfunction handler(msg, buffers) {\n\t\t\tif (!(msg.uuid === uuid)) return;\n\t\t\tclearTimeout(timer);\n\t\t\tresolve({ data: msg.payload, buffers });\n\t\t\tmodel.off(\"msg:custom\", handler);\n\t\t}\n\t\tmodel.on(\"msg:custom\", handler);\n\t\tmodel.send({ payload, uuid });\n\t});\n}\n\n/**\n * @param {import(\"npm:@anywidget/types\").AnyModel} model\n * @param {string | { id: string }} source\n */\nfunction get_source(model, source) {\n\tif (typeof source === \"string\") {\n\t\treturn source;\n\t}\n\t// create a python\n\treturn {\n\t\t/**\n\t\t * @param {string} key\n\t\t * @return {Promise<ArrayBuffer>}\n\t\t */\n\t\tasync getItem(key) {\n\t\t\tconst { data, buffers } = await send(model, {\n\t\t\t\ttype: \"get\",\n\t\t\t\tsource_id: source.id,\n\t\t\t\tkey,\n\t\t\t});\n\t\t\tif (!data.success) {\n\t\t\t\tthrow { __zarr__: \"KeyError\" };\n\t\t\t}\n\t\t\treturn buffers[0].buffer;\n\t\t},\n\t\t/**\n\t\t * @param {string} key\n\t\t * @return {Promise<boolean>}\n\t\t */\n\t\tasync containsItem(key) {\n\t\t\tconst { data } = await send(model, {\n\t\t\t\ttype: \"has\",\n\t\t\t\tsource_id: source.id,\n\t\t\t\tkey,\n\t\t\t});\n\t\t\treturn data;\n\t\t},\n\t};\n}\n\n/**\n * @typedef Model\n * @property {string} height\n * @property {ViewState=} view_state\n * @property {{ source: string | { id: string }}[]} _configs\n */\n\n/**\n * @typedef ViewState\n * @property {number} zoom\n * @property {[x: number, y: number]} target\n */\n\n/** @type {import(\"npm:@anywidget/types\").Render<Model>} */\nexport async function render({ model, el }) {\n\tlet div = document.createElement(\"div\");\n\t{\n\t\tdiv.style.height = model.get(\"height\");\n\t\tdiv.style.backgroundColor = \"black\";\n\t\tmodel.on(\"change:height\", () => {\n\t\t\tdiv.style.height = model.get(\"height\");\n\t\t});\n\t}\n\tlet viewer = await vizarr.createViewer(div);\n\t{\n\t\tmodel.on(\"change:view_state\", () => {\n\t\t\tviewer.setViewState(model.get(\"view_state\"));\n\t\t});\n\t\tviewer.on(\n\t\t\t\"viewStateChange\",\n\t\t\tdebounce((/** @type {ViewState} */ update) => {\n\t\t\t\tmodel.set(\"view_state\", update);\n\t\t\t\tmodel.save_changes();\n\t\t\t}, 200),\n\t\t);\n\t}\n\t{\n\t\t// sources are append-only now\n\t\tfor (const config of model.get(\"_configs\")) {\n\t\t\tconst source = get_source(model, config.source);\n\t\t\tviewer.addImage({ ...config, source });\n\t\t}\n\t\tmodel.on(\"change:_configs\", () => {\n\t\t\tconst last = model.get(\"_configs\").at(-1);\n\t\t\tif (!last) return;\n\t\t\tconst source = get_source(model, last.source);\n\t\t\tviewer.addImage({ ...last, source });\n\t\t});\n\t}\n\tel.appendChild(div);\n}\n",
       "_model_module": "anywidget",
       "_model_module_version": "0.9.0",
       "_model_name": "AnyModel",
       "_view_module": "anywidget",
       "_view_module_version": "0.9.0",
       "_view_name": "AnyView",
       "height": "500px",
       "layout": "IPY_MODEL_4633fa3169d5455a8976ff94798350cb",
       "view_state": {
        "target": [
         8160.088941156679,
         2890.1650328268374
        ],
        "zoom": -3.473004525341269
       }
      }
     }
    },
    "version_major": 2,
    "version_minor": 0
   }
  }
 },
 "nbformat": 4,
 "nbformat_minor": 4
}
