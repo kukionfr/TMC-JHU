{
 "cells": [
  {
   "cell_type": "code",
   "id": "initial_id",
   "metadata": {
    "collapsed": true,
    "ExecuteTime": {
     "end_time": "2024-10-21T15:31:03.574777Z",
     "start_time": "2024-10-21T15:31:03.551095Z"
    }
   },
   "source": [
    "import glob, os\n",
    "src = r'\\\\10.99.68.54\\Digital pathology image lib\\JHU\\Won Jin Ho\\240912 HCC 3D pilot sample\\HESS\\AlignIM\\run1\\Dalign_lbl__imdsf16__dsfout4_padsz200'\n",
    "ims = glob.glob(os.path.join(src,'*.png'))\n",
    "ims"
   ],
   "outputs": [
    {
     "data": {
      "text/plain": [
       "['\\\\\\\\10.99.68.54\\\\Digital pathology image lib\\\\JHU\\\\Won Jin Ho\\\\240912 HCC 3D pilot sample\\\\HESS\\\\AlignIM\\\\run1\\\\Dalign_lbl__imdsf16__dsfout4_padsz200\\\\J17136-CS R19-1453 3-7-19 01.png',\n",
       " '\\\\\\\\10.99.68.54\\\\Digital pathology image lib\\\\JHU\\\\Won Jin Ho\\\\240912 HCC 3D pilot sample\\\\HESS\\\\AlignIM\\\\run1\\\\Dalign_lbl__imdsf16__dsfout4_padsz200\\\\J17136-CS R19-1453 3-7-19 03.png',\n",
       " '\\\\\\\\10.99.68.54\\\\Digital pathology image lib\\\\JHU\\\\Won Jin Ho\\\\240912 HCC 3D pilot sample\\\\HESS\\\\AlignIM\\\\run1\\\\Dalign_lbl__imdsf16__dsfout4_padsz200\\\\J17136-CS R19-1453 3-7-19 05.png',\n",
       " '\\\\\\\\10.99.68.54\\\\Digital pathology image lib\\\\JHU\\\\Won Jin Ho\\\\240912 HCC 3D pilot sample\\\\HESS\\\\AlignIM\\\\run1\\\\Dalign_lbl__imdsf16__dsfout4_padsz200\\\\J17136-CS R19-1453 3-7-19 07.png',\n",
       " '\\\\\\\\10.99.68.54\\\\Digital pathology image lib\\\\JHU\\\\Won Jin Ho\\\\240912 HCC 3D pilot sample\\\\HESS\\\\AlignIM\\\\run1\\\\Dalign_lbl__imdsf16__dsfout4_padsz200\\\\J17136-CS R19-1453 3-7-19 09.png',\n",
       " '\\\\\\\\10.99.68.54\\\\Digital pathology image lib\\\\JHU\\\\Won Jin Ho\\\\240912 HCC 3D pilot sample\\\\HESS\\\\AlignIM\\\\run1\\\\Dalign_lbl__imdsf16__dsfout4_padsz200\\\\J17136-CS R19-1453 3-7-19 11.png',\n",
       " '\\\\\\\\10.99.68.54\\\\Digital pathology image lib\\\\JHU\\\\Won Jin Ho\\\\240912 HCC 3D pilot sample\\\\HESS\\\\AlignIM\\\\run1\\\\Dalign_lbl__imdsf16__dsfout4_padsz200\\\\J17136-CS R19-1453 3-7-19 13.png',\n",
       " '\\\\\\\\10.99.68.54\\\\Digital pathology image lib\\\\JHU\\\\Won Jin Ho\\\\240912 HCC 3D pilot sample\\\\HESS\\\\AlignIM\\\\run1\\\\Dalign_lbl__imdsf16__dsfout4_padsz200\\\\J17136-CS R19-1453 3-7-19 15.png',\n",
       " '\\\\\\\\10.99.68.54\\\\Digital pathology image lib\\\\JHU\\\\Won Jin Ho\\\\240912 HCC 3D pilot sample\\\\HESS\\\\AlignIM\\\\run1\\\\Dalign_lbl__imdsf16__dsfout4_padsz200\\\\J17136-CS R19-1453 3-7-19 17.png',\n",
       " '\\\\\\\\10.99.68.54\\\\Digital pathology image lib\\\\JHU\\\\Won Jin Ho\\\\240912 HCC 3D pilot sample\\\\HESS\\\\AlignIM\\\\run1\\\\Dalign_lbl__imdsf16__dsfout4_padsz200\\\\J17136-CS R19-1453 3-7-19 19.png',\n",
       " '\\\\\\\\10.99.68.54\\\\Digital pathology image lib\\\\JHU\\\\Won Jin Ho\\\\240912 HCC 3D pilot sample\\\\HESS\\\\AlignIM\\\\run1\\\\Dalign_lbl__imdsf16__dsfout4_padsz200\\\\J17136-CS R19-1453 3-7-19 21.png',\n",
       " '\\\\\\\\10.99.68.54\\\\Digital pathology image lib\\\\JHU\\\\Won Jin Ho\\\\240912 HCC 3D pilot sample\\\\HESS\\\\AlignIM\\\\run1\\\\Dalign_lbl__imdsf16__dsfout4_padsz200\\\\J17136-CS R19-1453 3-7-19 23.png',\n",
       " '\\\\\\\\10.99.68.54\\\\Digital pathology image lib\\\\JHU\\\\Won Jin Ho\\\\240912 HCC 3D pilot sample\\\\HESS\\\\AlignIM\\\\run1\\\\Dalign_lbl__imdsf16__dsfout4_padsz200\\\\J17136-CS R19-1453 3-7-19 25.png',\n",
       " '\\\\\\\\10.99.68.54\\\\Digital pathology image lib\\\\JHU\\\\Won Jin Ho\\\\240912 HCC 3D pilot sample\\\\HESS\\\\AlignIM\\\\run1\\\\Dalign_lbl__imdsf16__dsfout4_padsz200\\\\J17136-CS R19-1453 3-7-19 27.png',\n",
       " '\\\\\\\\10.99.68.54\\\\Digital pathology image lib\\\\JHU\\\\Won Jin Ho\\\\240912 HCC 3D pilot sample\\\\HESS\\\\AlignIM\\\\run1\\\\Dalign_lbl__imdsf16__dsfout4_padsz200\\\\J17136-CS R19-1453 3-7-19 29.png',\n",
       " '\\\\\\\\10.99.68.54\\\\Digital pathology image lib\\\\JHU\\\\Won Jin Ho\\\\240912 HCC 3D pilot sample\\\\HESS\\\\AlignIM\\\\run1\\\\Dalign_lbl__imdsf16__dsfout4_padsz200\\\\J17136-CS R19-1453 3-7-19 31.png',\n",
       " '\\\\\\\\10.99.68.54\\\\Digital pathology image lib\\\\JHU\\\\Won Jin Ho\\\\240912 HCC 3D pilot sample\\\\HESS\\\\AlignIM\\\\run1\\\\Dalign_lbl__imdsf16__dsfout4_padsz200\\\\J17136-CS R19-1453 3-7-19 33.png',\n",
       " '\\\\\\\\10.99.68.54\\\\Digital pathology image lib\\\\JHU\\\\Won Jin Ho\\\\240912 HCC 3D pilot sample\\\\HESS\\\\AlignIM\\\\run1\\\\Dalign_lbl__imdsf16__dsfout4_padsz200\\\\J17136-CS R19-1453 3-7-19 35.png',\n",
       " '\\\\\\\\10.99.68.54\\\\Digital pathology image lib\\\\JHU\\\\Won Jin Ho\\\\240912 HCC 3D pilot sample\\\\HESS\\\\AlignIM\\\\run1\\\\Dalign_lbl__imdsf16__dsfout4_padsz200\\\\J17136-CS R19-1453 3-7-19 37.png',\n",
       " '\\\\\\\\10.99.68.54\\\\Digital pathology image lib\\\\JHU\\\\Won Jin Ho\\\\240912 HCC 3D pilot sample\\\\HESS\\\\AlignIM\\\\run1\\\\Dalign_lbl__imdsf16__dsfout4_padsz200\\\\J17136-CS R19-1453 3-7-19 39.png',\n",
       " '\\\\\\\\10.99.68.54\\\\Digital pathology image lib\\\\JHU\\\\Won Jin Ho\\\\240912 HCC 3D pilot sample\\\\HESS\\\\AlignIM\\\\run1\\\\Dalign_lbl__imdsf16__dsfout4_padsz200\\\\J17136-CS R19-1453 3-7-19 41.png',\n",
       " '\\\\\\\\10.99.68.54\\\\Digital pathology image lib\\\\JHU\\\\Won Jin Ho\\\\240912 HCC 3D pilot sample\\\\HESS\\\\AlignIM\\\\run1\\\\Dalign_lbl__imdsf16__dsfout4_padsz200\\\\J17136-CS R19-1453 3-7-19 43.png',\n",
       " '\\\\\\\\10.99.68.54\\\\Digital pathology image lib\\\\JHU\\\\Won Jin Ho\\\\240912 HCC 3D pilot sample\\\\HESS\\\\AlignIM\\\\run1\\\\Dalign_lbl__imdsf16__dsfout4_padsz200\\\\J17136-CS R19-1453 3-7-19 45.png',\n",
       " '\\\\\\\\10.99.68.54\\\\Digital pathology image lib\\\\JHU\\\\Won Jin Ho\\\\240912 HCC 3D pilot sample\\\\HESS\\\\AlignIM\\\\run1\\\\Dalign_lbl__imdsf16__dsfout4_padsz200\\\\J17136-CS R19-1453 3-7-19 47.png',\n",
       " '\\\\\\\\10.99.68.54\\\\Digital pathology image lib\\\\JHU\\\\Won Jin Ho\\\\240912 HCC 3D pilot sample\\\\HESS\\\\AlignIM\\\\run1\\\\Dalign_lbl__imdsf16__dsfout4_padsz200\\\\J17136-CS R19-1453 3-7-19 49.png',\n",
       " '\\\\\\\\10.99.68.54\\\\Digital pathology image lib\\\\JHU\\\\Won Jin Ho\\\\240912 HCC 3D pilot sample\\\\HESS\\\\AlignIM\\\\run1\\\\Dalign_lbl__imdsf16__dsfout4_padsz200\\\\J17136-CS R19-1453 3-7-19 51.png',\n",
       " '\\\\\\\\10.99.68.54\\\\Digital pathology image lib\\\\JHU\\\\Won Jin Ho\\\\240912 HCC 3D pilot sample\\\\HESS\\\\AlignIM\\\\run1\\\\Dalign_lbl__imdsf16__dsfout4_padsz200\\\\J17136-CS R19-1453 3-7-19 53.png',\n",
       " '\\\\\\\\10.99.68.54\\\\Digital pathology image lib\\\\JHU\\\\Won Jin Ho\\\\240912 HCC 3D pilot sample\\\\HESS\\\\AlignIM\\\\run1\\\\Dalign_lbl__imdsf16__dsfout4_padsz200\\\\J17136-CS R19-1453 3-7-19 55.png',\n",
       " '\\\\\\\\10.99.68.54\\\\Digital pathology image lib\\\\JHU\\\\Won Jin Ho\\\\240912 HCC 3D pilot sample\\\\HESS\\\\AlignIM\\\\run1\\\\Dalign_lbl__imdsf16__dsfout4_padsz200\\\\J17136-CS R19-1453 3-7-19 57.png',\n",
       " '\\\\\\\\10.99.68.54\\\\Digital pathology image lib\\\\JHU\\\\Won Jin Ho\\\\240912 HCC 3D pilot sample\\\\HESS\\\\AlignIM\\\\run1\\\\Dalign_lbl__imdsf16__dsfout4_padsz200\\\\J17136-CS R19-1453 3-7-19 59.png',\n",
       " '\\\\\\\\10.99.68.54\\\\Digital pathology image lib\\\\JHU\\\\Won Jin Ho\\\\240912 HCC 3D pilot sample\\\\HESS\\\\AlignIM\\\\run1\\\\Dalign_lbl__imdsf16__dsfout4_padsz200\\\\J17136-CS R19-1453 3-7-19 61.png',\n",
       " '\\\\\\\\10.99.68.54\\\\Digital pathology image lib\\\\JHU\\\\Won Jin Ho\\\\240912 HCC 3D pilot sample\\\\HESS\\\\AlignIM\\\\run1\\\\Dalign_lbl__imdsf16__dsfout4_padsz200\\\\J17136-CS R19-1453 3-7-19 63.png',\n",
       " '\\\\\\\\10.99.68.54\\\\Digital pathology image lib\\\\JHU\\\\Won Jin Ho\\\\240912 HCC 3D pilot sample\\\\HESS\\\\AlignIM\\\\run1\\\\Dalign_lbl__imdsf16__dsfout4_padsz200\\\\J17136-CS R19-1453 3-7-19 65.png',\n",
       " '\\\\\\\\10.99.68.54\\\\Digital pathology image lib\\\\JHU\\\\Won Jin Ho\\\\240912 HCC 3D pilot sample\\\\HESS\\\\AlignIM\\\\run1\\\\Dalign_lbl__imdsf16__dsfout4_padsz200\\\\J17136-CS R19-1453 3-7-19 67.png',\n",
       " '\\\\\\\\10.99.68.54\\\\Digital pathology image lib\\\\JHU\\\\Won Jin Ho\\\\240912 HCC 3D pilot sample\\\\HESS\\\\AlignIM\\\\run1\\\\Dalign_lbl__imdsf16__dsfout4_padsz200\\\\J17136-CS R19-1453 3-7-19 69.png',\n",
       " '\\\\\\\\10.99.68.54\\\\Digital pathology image lib\\\\JHU\\\\Won Jin Ho\\\\240912 HCC 3D pilot sample\\\\HESS\\\\AlignIM\\\\run1\\\\Dalign_lbl__imdsf16__dsfout4_padsz200\\\\J17136-CS R19-1453 3-7-19 71.png',\n",
       " '\\\\\\\\10.99.68.54\\\\Digital pathology image lib\\\\JHU\\\\Won Jin Ho\\\\240912 HCC 3D pilot sample\\\\HESS\\\\AlignIM\\\\run1\\\\Dalign_lbl__imdsf16__dsfout4_padsz200\\\\J17136-CS R19-1453 3-7-19 73.png',\n",
       " '\\\\\\\\10.99.68.54\\\\Digital pathology image lib\\\\JHU\\\\Won Jin Ho\\\\240912 HCC 3D pilot sample\\\\HESS\\\\AlignIM\\\\run1\\\\Dalign_lbl__imdsf16__dsfout4_padsz200\\\\J17136-CS R19-1453 3-7-19 75.png',\n",
       " '\\\\\\\\10.99.68.54\\\\Digital pathology image lib\\\\JHU\\\\Won Jin Ho\\\\240912 HCC 3D pilot sample\\\\HESS\\\\AlignIM\\\\run1\\\\Dalign_lbl__imdsf16__dsfout4_padsz200\\\\J17136-CS R19-1453 3-7-19 77.png',\n",
       " '\\\\\\\\10.99.68.54\\\\Digital pathology image lib\\\\JHU\\\\Won Jin Ho\\\\240912 HCC 3D pilot sample\\\\HESS\\\\AlignIM\\\\run1\\\\Dalign_lbl__imdsf16__dsfout4_padsz200\\\\J17136-CS R19-1453 3-7-19 79.png',\n",
       " '\\\\\\\\10.99.68.54\\\\Digital pathology image lib\\\\JHU\\\\Won Jin Ho\\\\240912 HCC 3D pilot sample\\\\HESS\\\\AlignIM\\\\run1\\\\Dalign_lbl__imdsf16__dsfout4_padsz200\\\\J17136-CS R19-1453 3-7-19 81.png',\n",
       " '\\\\\\\\10.99.68.54\\\\Digital pathology image lib\\\\JHU\\\\Won Jin Ho\\\\240912 HCC 3D pilot sample\\\\HESS\\\\AlignIM\\\\run1\\\\Dalign_lbl__imdsf16__dsfout4_padsz200\\\\J17136-CS R19-1453 3-7-19 83.png',\n",
       " '\\\\\\\\10.99.68.54\\\\Digital pathology image lib\\\\JHU\\\\Won Jin Ho\\\\240912 HCC 3D pilot sample\\\\HESS\\\\AlignIM\\\\run1\\\\Dalign_lbl__imdsf16__dsfout4_padsz200\\\\J17136-CS R19-1453 3-7-19 85.png',\n",
       " '\\\\\\\\10.99.68.54\\\\Digital pathology image lib\\\\JHU\\\\Won Jin Ho\\\\240912 HCC 3D pilot sample\\\\HESS\\\\AlignIM\\\\run1\\\\Dalign_lbl__imdsf16__dsfout4_padsz200\\\\J17136-CS R19-1453 3-7-19 87.png',\n",
       " '\\\\\\\\10.99.68.54\\\\Digital pathology image lib\\\\JHU\\\\Won Jin Ho\\\\240912 HCC 3D pilot sample\\\\HESS\\\\AlignIM\\\\run1\\\\Dalign_lbl__imdsf16__dsfout4_padsz200\\\\J17136-CS R19-1453 3-7-19 89.png',\n",
       " '\\\\\\\\10.99.68.54\\\\Digital pathology image lib\\\\JHU\\\\Won Jin Ho\\\\240912 HCC 3D pilot sample\\\\HESS\\\\AlignIM\\\\run1\\\\Dalign_lbl__imdsf16__dsfout4_padsz200\\\\J17136-CS R19-1453 3-7-19 91.png',\n",
       " '\\\\\\\\10.99.68.54\\\\Digital pathology image lib\\\\JHU\\\\Won Jin Ho\\\\240912 HCC 3D pilot sample\\\\HESS\\\\AlignIM\\\\run1\\\\Dalign_lbl__imdsf16__dsfout4_padsz200\\\\J17136-CS R19-1453 3-7-19 93.png',\n",
       " '\\\\\\\\10.99.68.54\\\\Digital pathology image lib\\\\JHU\\\\Won Jin Ho\\\\240912 HCC 3D pilot sample\\\\HESS\\\\AlignIM\\\\run1\\\\Dalign_lbl__imdsf16__dsfout4_padsz200\\\\J17136-CS R19-1453 3-7-19 95.png',\n",
       " '\\\\\\\\10.99.68.54\\\\Digital pathology image lib\\\\JHU\\\\Won Jin Ho\\\\240912 HCC 3D pilot sample\\\\HESS\\\\AlignIM\\\\run1\\\\Dalign_lbl__imdsf16__dsfout4_padsz200\\\\J17136-CS R19-1453 3-7-19 97.png',\n",
       " '\\\\\\\\10.99.68.54\\\\Digital pathology image lib\\\\JHU\\\\Won Jin Ho\\\\240912 HCC 3D pilot sample\\\\HESS\\\\AlignIM\\\\run1\\\\Dalign_lbl__imdsf16__dsfout4_padsz200\\\\J17136-CS R19-1453 3-7-19 99.png']"
      ]
     },
     "execution_count": 1,
     "metadata": {},
     "output_type": "execute_result"
    }
   ],
   "execution_count": 1
  },
  {
   "metadata": {
    "ExecuteTime": {
     "end_time": "2024-10-21T15:31:33.228245Z",
     "start_time": "2024-10-21T15:31:33.105376Z"
    }
   },
   "cell_type": "code",
   "source": [
    "from PIL import Image\n",
    "im = Image.open(ims[0])"
   ],
   "id": "d611d4ffada6c5e1",
   "outputs": [],
   "execution_count": 2
  },
  {
   "metadata": {
    "ExecuteTime": {
     "end_time": "2024-10-21T15:33:44.598271Z",
     "start_time": "2024-10-21T15:33:44.569314Z"
    }
   },
   "cell_type": "code",
   "source": [
    "import numpy as np\n",
    "imarr = np.array(im)\n",
    "px = np.max(imarr)\n",
    "px"
   ],
   "id": "8df04f3f7eeee2a7",
   "outputs": [
    {
     "data": {
      "text/plain": [
       "12"
      ]
     },
     "execution_count": 3,
     "metadata": {},
     "output_type": "execute_result"
    }
   ],
   "execution_count": 3
  },
  {
   "metadata": {
    "ExecuteTime": {
     "end_time": "2024-10-21T15:38:05.125236Z",
     "start_time": "2024-10-21T15:38:05.099548Z"
    }
   },
   "cell_type": "code",
   "source": [
    "for imtmp in range(px):\n",
    "    dst = os.path.join(src,str(imtmp+1))\n",
    "    if not os.path.exists(dst): os.makedirs(dst)"
   ],
   "id": "5774a018896477bf",
   "outputs": [],
   "execution_count": 7
  },
  {
   "metadata": {
    "ExecuteTime": {
     "end_time": "2024-10-21T15:38:47.758171Z",
     "start_time": "2024-10-21T15:38:47.747442Z"
    }
   },
   "cell_type": "code",
   "source": "os.path.dirname(ims[0]),",
   "id": "b15693bd0845694c",
   "outputs": [
    {
     "data": {
      "text/plain": [
       "'\\\\\\\\10.99.68.54\\\\Digital pathology image lib\\\\JHU\\\\Won Jin Ho\\\\240912 HCC 3D pilot sample\\\\HESS\\\\AlignIM\\\\run1\\\\Dalign_lbl__imdsf16__dsfout4_padsz200'"
      ]
     },
     "execution_count": 10,
     "metadata": {},
     "output_type": "execute_result"
    }
   ],
   "execution_count": 10
  },
  {
   "metadata": {
    "ExecuteTime": {
     "end_time": "2024-10-21T15:39:15.800736Z",
     "start_time": "2024-10-21T15:39:15.787615Z"
    }
   },
   "cell_type": "code",
   "source": "fol,fn = os.path.split(ims[0])",
   "id": "84ae5e20940549e",
   "outputs": [
    {
     "data": {
      "text/plain": [
       "'\\\\\\\\10.99.68.54\\\\Digital pathology image lib\\\\JHU\\\\Won Jin Ho\\\\240912 HCC 3D pilot sample\\\\HESS\\\\AlignIM\\\\run1\\\\Dalign_lbl__imdsf16__dsfout4_padsz200'"
      ]
     },
     "execution_count": 13,
     "metadata": {},
     "output_type": "execute_result"
    }
   ],
   "execution_count": 13
  },
  {
   "metadata": {
    "ExecuteTime": {
     "end_time": "2024-10-21T15:39:56.662352Z",
     "start_time": "2024-10-21T15:39:56.478389Z"
    }
   },
   "cell_type": "code",
   "source": [
    "for imtmp in range(px):\n",
    "    Image.fromarray(imarr==imtmp+1).save(os.path.join(*[fol,str(imtmp+1),fn]))"
   ],
   "id": "b5710ebd247514fd",
   "outputs": [],
   "execution_count": 14
  },
  {
   "metadata": {},
   "cell_type": "code",
   "outputs": [],
   "execution_count": null,
   "source": "",
   "id": "1e5eb39baa8c37a0"
  },
  {
   "metadata": {},
   "cell_type": "code",
   "outputs": [],
   "execution_count": null,
   "source": "",
   "id": "13b989c43ebdf15a"
  }
 ],
 "metadata": {
  "kernelspec": {
   "display_name": "Python 3",
   "language": "python",
   "name": "python3"
  },
  "language_info": {
   "codemirror_mode": {
    "name": "ipython",
    "version": 2
   },
   "file_extension": ".py",
   "mimetype": "text/x-python",
   "name": "python",
   "nbconvert_exporter": "python",
   "pygments_lexer": "ipython2",
   "version": "2.7.6"
  }
 },
 "nbformat": 4,
 "nbformat_minor": 5
}
