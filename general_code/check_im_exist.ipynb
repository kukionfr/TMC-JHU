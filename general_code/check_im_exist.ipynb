{
 "cells": [
  {
   "cell_type": "code",
   "execution_count": 2,
   "id": "initial_id",
   "metadata": {
    "collapsed": true,
    "ExecuteTime": {
     "end_time": "2024-05-02T13:37:10.718126700Z",
     "start_time": "2024-05-02T13:37:10.500340300Z"
    }
   },
   "outputs": [],
   "source": [
    "import os\n",
    "import pandas as pd"
   ]
  },
  {
   "cell_type": "code",
   "execution_count": 4,
   "outputs": [
    {
     "data": {
      "text/plain": "     blockID  Nimages\n0   D001B001      118\n1   D001B002      117\n2   D002B003        0\n3   D002B004        0\n4   D003B005        0\n5   D004B006        0\n6   D005B007        0\n7   D006B008       17\n8   D006B009        0\n9   D007B010        0\n10  D008B011        0\n11  D009B012      100\n12  D010B013        0\n13  D011B014        0\n14  D012B015        0\n15  D013B016        0\n16  D013B017        0\n17  D014B018        0\n18  D014B019        0\n19  D014B020        0\n20  D014B021        0",
      "text/html": "<div>\n<style scoped>\n    .dataframe tbody tr th:only-of-type {\n        vertical-align: middle;\n    }\n\n    .dataframe tbody tr th {\n        vertical-align: top;\n    }\n\n    .dataframe thead th {\n        text-align: right;\n    }\n</style>\n<table border=\"1\" class=\"dataframe\">\n  <thead>\n    <tr style=\"text-align: right;\">\n      <th></th>\n      <th>blockID</th>\n      <th>Nimages</th>\n    </tr>\n  </thead>\n  <tbody>\n    <tr>\n      <th>0</th>\n      <td>D001B001</td>\n      <td>118</td>\n    </tr>\n    <tr>\n      <th>1</th>\n      <td>D001B002</td>\n      <td>117</td>\n    </tr>\n    <tr>\n      <th>2</th>\n      <td>D002B003</td>\n      <td>0</td>\n    </tr>\n    <tr>\n      <th>3</th>\n      <td>D002B004</td>\n      <td>0</td>\n    </tr>\n    <tr>\n      <th>4</th>\n      <td>D003B005</td>\n      <td>0</td>\n    </tr>\n    <tr>\n      <th>5</th>\n      <td>D004B006</td>\n      <td>0</td>\n    </tr>\n    <tr>\n      <th>6</th>\n      <td>D005B007</td>\n      <td>0</td>\n    </tr>\n    <tr>\n      <th>7</th>\n      <td>D006B008</td>\n      <td>17</td>\n    </tr>\n    <tr>\n      <th>8</th>\n      <td>D006B009</td>\n      <td>0</td>\n    </tr>\n    <tr>\n      <th>9</th>\n      <td>D007B010</td>\n      <td>0</td>\n    </tr>\n    <tr>\n      <th>10</th>\n      <td>D008B011</td>\n      <td>0</td>\n    </tr>\n    <tr>\n      <th>11</th>\n      <td>D009B012</td>\n      <td>100</td>\n    </tr>\n    <tr>\n      <th>12</th>\n      <td>D010B013</td>\n      <td>0</td>\n    </tr>\n    <tr>\n      <th>13</th>\n      <td>D011B014</td>\n      <td>0</td>\n    </tr>\n    <tr>\n      <th>14</th>\n      <td>D012B015</td>\n      <td>0</td>\n    </tr>\n    <tr>\n      <th>15</th>\n      <td>D013B016</td>\n      <td>0</td>\n    </tr>\n    <tr>\n      <th>16</th>\n      <td>D013B017</td>\n      <td>0</td>\n    </tr>\n    <tr>\n      <th>17</th>\n      <td>D014B018</td>\n      <td>0</td>\n    </tr>\n    <tr>\n      <th>18</th>\n      <td>D014B019</td>\n      <td>0</td>\n    </tr>\n    <tr>\n      <th>19</th>\n      <td>D014B020</td>\n      <td>0</td>\n    </tr>\n    <tr>\n      <th>20</th>\n      <td>D014B021</td>\n      <td>0</td>\n    </tr>\n  </tbody>\n</table>\n</div>"
     },
     "execution_count": 4,
     "metadata": {},
     "output_type": "execute_result"
    }
   ],
   "source": [
    "src = r'\\\\10.99.68.54\\Digital pathology image lib\\HubMap Skin TMC project\\Data_upload'\n",
    "Nimages = []\n",
    "blockIDs = os.listdir(src)\n",
    "for block in blockIDs:\n",
    "    Nimages.append(len([_ for _ in os.listdir(os.path.join(*[src,block,'raw','images']))]))\n",
    "df = pd.DataFrame({'blockID':blockIDs,'Nimages':Nimages})\n",
    "df"
   ],
   "metadata": {
    "collapsed": false,
    "ExecuteTime": {
     "end_time": "2024-05-02T13:38:59.816301800Z",
     "start_time": "2024-05-02T13:38:57.909804800Z"
    }
   },
   "id": "bd8513a89d3978b7"
  },
  {
   "cell_type": "code",
   "execution_count": null,
   "outputs": [],
   "source": [],
   "metadata": {
    "collapsed": false
   },
   "id": "5224c1cc9368eabd"
  }
 ],
 "metadata": {
  "kernelspec": {
   "display_name": "Python 3",
   "language": "python",
   "name": "python3"
  },
  "language_info": {
   "codemirror_mode": {
    "name": "ipython",
    "version": 2
   },
   "file_extension": ".py",
   "mimetype": "text/x-python",
   "name": "python",
   "nbconvert_exporter": "python",
   "pygments_lexer": "ipython2",
   "version": "2.7.6"
  }
 },
 "nbformat": 4,
 "nbformat_minor": 5
}
