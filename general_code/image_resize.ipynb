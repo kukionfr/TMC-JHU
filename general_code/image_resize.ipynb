{
 "cells": [
  {
   "cell_type": "code",
   "execution_count": 1,
   "id": "initial_id",
   "metadata": {
    "collapsed": true,
    "ExecuteTime": {
     "end_time": "2024-04-10T18:42:36.856702600Z",
     "start_time": "2024-04-10T18:42:36.831700400Z"
    }
   },
   "outputs": [],
   "source": []
  },
  {
   "cell_type": "code",
   "execution_count": 7,
   "outputs": [],
   "source": [
    "from PIL import Image\n",
    "import os\n",
    "\n",
    "src = r'C:\\Users\\kyu\\Desktop\\New Folder'\n",
    "ims = [Image.open(os.path.join(src,_)).resize((1504,1004)).save(os.path.join(src,_).replace('_','dsf4')) for _ in os.listdir(src) if _.lower().endswith('jpg')]\n",
    "# for im in ims:\n",
    "#     imobj = Image.open(im)\n",
    "#     width, height = imobj.size\n",
    "#     newsize = (round(width/4),round(height/4))\n",
    "#     imobj.resize(newsize).save(im.replace('_','dsf4').replace('JPG','jpg'))"
   ],
   "metadata": {
    "collapsed": false,
    "ExecuteTime": {
     "end_time": "2024-04-10T19:41:26.942444200Z",
     "start_time": "2024-04-10T19:41:19.197460700Z"
    }
   },
   "id": "7c676cb78bad2628"
  },
  {
   "cell_type": "code",
   "execution_count": 2,
   "outputs": [
    {
     "ename": "FileNotFoundError",
     "evalue": "[WinError 3] The system cannot find the path specified: \"\\\\\\\\10.99.68.54\\\\Digital pathology image lib\\\\MxIF SFC\\\\Fran's Ovary\\\\SNO001\\\\Sec002\\\\align_wsi\\\\ReadDsf1_OutDsf1_16bit\"",
     "output_type": "error",
     "traceback": [
      "\u001B[1;31m---------------------------------------------------------------------------\u001B[0m",
      "\u001B[1;31mFileNotFoundError\u001B[0m                         Traceback (most recent call last)",
      "Cell \u001B[1;32mIn[2], line 2\u001B[0m\n\u001B[0;32m      1\u001B[0m \u001B[38;5;28;01mimport\u001B[39;00m \u001B[38;5;21;01mos\u001B[39;00m\n\u001B[1;32m----> 2\u001B[0m \u001B[43mos\u001B[49m\u001B[38;5;241;43m.\u001B[39;49m\u001B[43mlistdir\u001B[49m\u001B[43m(\u001B[49m\u001B[38;5;124;43mr\u001B[39;49m\u001B[38;5;124;43m\"\u001B[39;49m\u001B[38;5;130;43;01m\\\\\u001B[39;49;00m\u001B[38;5;124;43m10.99.68.54\u001B[39;49m\u001B[38;5;124;43m\\\u001B[39;49m\u001B[38;5;124;43mDigital pathology image lib\u001B[39;49m\u001B[38;5;124;43m\\\u001B[39;49m\u001B[38;5;124;43mMxIF SFC\u001B[39;49m\u001B[38;5;124;43m\\\u001B[39;49m\u001B[38;5;124;43mFran\u001B[39;49m\u001B[38;5;124;43m'\u001B[39;49m\u001B[38;5;124;43ms Ovary\u001B[39;49m\u001B[38;5;124;43m\\\u001B[39;49m\u001B[38;5;124;43mSNO001\u001B[39;49m\u001B[38;5;124;43m\\\u001B[39;49m\u001B[38;5;124;43mSec002\u001B[39;49m\u001B[38;5;124;43m\\\u001B[39;49m\u001B[38;5;124;43malign_wsi\u001B[39;49m\u001B[38;5;124;43m\\\u001B[39;49m\u001B[38;5;124;43mReadDsf1_OutDsf1_16bit\u001B[39;49m\u001B[38;5;124;43m\"\u001B[39;49m\u001B[43m)\u001B[49m\n",
      "\u001B[1;31mFileNotFoundError\u001B[0m: [WinError 3] The system cannot find the path specified: \"\\\\\\\\10.99.68.54\\\\Digital pathology image lib\\\\MxIF SFC\\\\Fran's Ovary\\\\SNO001\\\\Sec002\\\\align_wsi\\\\ReadDsf1_OutDsf1_16bit\""
     ]
    }
   ],
   "source": [
    "import os\n",
    "os.listdir(r\"\\\\10.99.68.54\\Digital pathology image lib\\MxIF SFC\\Fran's Ovary\\SNO001\\Sec002\\align_wsi\\ReadDsf1_OutDsf1_16bit\")\n",
    "\n",
    "    "
   ],
   "metadata": {
    "collapsed": false,
    "ExecuteTime": {
     "end_time": "2024-04-16T16:51:32.743674600Z",
     "start_time": "2024-04-16T16:51:32.324029500Z"
    }
   },
   "id": "3700add8a9fe7971"
  },
  {
   "cell_type": "code",
   "execution_count": null,
   "outputs": [],
   "source": [],
   "metadata": {
    "collapsed": false
   },
   "id": "e3cfd9c7ce0942eb"
  }
 ],
 "metadata": {
  "kernelspec": {
   "display_name": "Python 3",
   "language": "python",
   "name": "python3"
  },
  "language_info": {
   "codemirror_mode": {
    "name": "ipython",
    "version": 2
   },
   "file_extension": ".py",
   "mimetype": "text/x-python",
   "name": "python",
   "nbconvert_exporter": "python",
   "pygments_lexer": "ipython2",
   "version": "2.7.6"
  }
 },
 "nbformat": 4,
 "nbformat_minor": 5
}
