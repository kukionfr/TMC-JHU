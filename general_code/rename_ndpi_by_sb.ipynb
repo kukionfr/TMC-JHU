{
 "cells": [
  {
   "cell_type": "code",
   "execution_count": 8,
   "outputs": [],
   "source": [
    "import os, shutil"
   ],
   "metadata": {
    "collapsed": false,
    "ExecuteTime": {
     "end_time": "2024-05-04T01:52:10.433273Z",
     "start_time": "2024-05-04T01:52:10.422309600Z"
    }
   },
   "id": "a80304a32cf06213"
  },
  {
   "cell_type": "code",
   "execution_count": 12,
   "outputs": [],
   "source": [
    "src = r'\\\\10.99.68.54\\Digital pathology image lib\\HubMap Skin TMC project\\Data_upload\\D004B006\\raw\\images\\sb3'\n",
    "dst = os.path.dirname(src)\n"
   ],
   "metadata": {
    "collapsed": false,
    "ExecuteTime": {
     "end_time": "2024-05-04T01:54:55.654282900Z",
     "start_time": "2024-05-04T01:54:55.629366800Z"
    }
   },
   "id": "initial_id"
  },
  {
   "cell_type": "code",
   "execution_count": 13,
   "outputs": [
    {
     "data": {
      "text/plain": "['z-003-p4b1sb3 - 2024-03-27 11.48.43.ndpi',\n 'z-006-p4b1sb3 - 2024-03-27 11.52.48.ndpi',\n 'z-009-p4b1sb3 - 2024-03-27 11.56.41.ndpi',\n 'z-012-p4b1sb3 - 2024-03-27 12.00.43.ndpi',\n 'z-015-p4b1sb3 - 2024-03-27 12.04.42.ndpi',\n 'z-018-p4b1sb3 - 2024-03-27 12.08.49.ndpi',\n 'z-021-p4b1sb3 - 2024-03-27 12.12.50.ndpi',\n 'z-024-p4b1sb3 - 2024-03-27 12.16.48.ndpi',\n 'z-027-p4b1sb3 - 2024-03-27 12.20.46.ndpi',\n 'z-030-p4b1sb3 - 2024-03-27 12.24.42.ndpi',\n 'z-033-p4b1sb3 - 2024-03-27 12.28.38.ndpi',\n 'z-036-p4b1sb3 - 2024-03-27 12.32.37.ndpi',\n 'z-039-p4b1sb3 - 2024-03-27 12.36.39.ndpi',\n 'z-042-p4b1sb3 - 2024-03-27 12.40.42.ndpi',\n 'z-045-p4b1sb3 - 2024-03-27 12.44.39.ndpi',\n 'z-048-p4b1sb3 - 2024-03-27 12.48.43.ndpi']"
     },
     "execution_count": 13,
     "metadata": {},
     "output_type": "execute_result"
    }
   ],
   "source": [
    "ims = [_ for _ in os.listdir(src) if _.endswith('.ndpi')]\n",
    "ims"
   ],
   "metadata": {
    "collapsed": false,
    "ExecuteTime": {
     "end_time": "2024-05-04T01:54:56.116424600Z",
     "start_time": "2024-05-04T01:54:55.973835400Z"
    }
   },
   "id": "5c394e4ec3f6f58c"
  },
  {
   "cell_type": "code",
   "execution_count": 14,
   "outputs": [],
   "source": [
    "for idx,im in enumerate(ims):\n",
    "    im2 = 'D004_B006_SB003_S{}.ndpi'.format(str(idx+1).zfill(3))\n",
    "    shutil.move(os.path.join(src,im),os.path.join(dst,im2))"
   ],
   "metadata": {
    "collapsed": false,
    "ExecuteTime": {
     "end_time": "2024-05-04T01:55:07.074020300Z",
     "start_time": "2024-05-04T01:54:56.852931100Z"
    }
   },
   "id": "61bd79bf739e0489"
  },
  {
   "cell_type": "code",
   "execution_count": 1,
   "outputs": [],
   "source": [
    "import os\n",
    "src = r'\\\\10.99.68.54\\Digital pathology image lib\\HubMap Skin TMC project\\Data_upload\\D006B008\\raw\\images'\n",
    "ims = [_ for _ in os.listdir(src) if _.endswith('.ndpi')]\n",
    "for idx,im in enumerate(ims):\n",
    "    im2 = 'D006_B008_SB002_S{}.ndpi'.format(str(idx+1).zfill(3))\n",
    "    os.rename(os.path.join(src,im),os.path.join(src,im2))"
   ],
   "metadata": {
    "collapsed": false,
    "ExecuteTime": {
     "end_time": "2024-05-01T22:05:57.291053100Z",
     "start_time": "2024-05-01T22:05:57.057560100Z"
    }
   },
   "id": "960928a016b66b91"
  },
  {
   "cell_type": "code",
   "execution_count": null,
   "outputs": [],
   "source": [],
   "metadata": {
    "collapsed": false
   },
   "id": "3d08870585d6c2c1"
  }
 ],
 "metadata": {
  "kernelspec": {
   "display_name": "Python 3",
   "language": "python",
   "name": "python3"
  },
  "language_info": {
   "codemirror_mode": {
    "name": "ipython",
    "version": 2
   },
   "file_extension": ".py",
   "mimetype": "text/x-python",
   "name": "python",
   "nbconvert_exporter": "python",
   "pygments_lexer": "ipython2",
   "version": "2.7.6"
  }
 },
 "nbformat": 4,
 "nbformat_minor": 5
}
