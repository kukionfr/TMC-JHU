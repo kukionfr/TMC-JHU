{
 "cells": [
  {
   "cell_type": "code",
   "execution_count": 5,
   "outputs": [],
   "source": [
    "import os, shutil"
   ],
   "metadata": {
    "collapsed": false,
    "ExecuteTime": {
     "end_time": "2024-05-01T23:04:47.596495300Z",
     "start_time": "2024-05-01T23:04:47.593505700Z"
    }
   },
   "id": "a80304a32cf06213"
  },
  {
   "cell_type": "code",
   "execution_count": 7,
   "outputs": [],
   "source": [
    "src = r'\\\\10.99.68.54\\Digital pathology image lib\\HubMap Skin TMC project\\Data_upload\\D001B002\\raw\\images\\SB3'\n",
    "dst = os.path.dirname(src)\n"
   ],
   "metadata": {
    "collapsed": false,
    "ExecuteTime": {
     "end_time": "2024-05-01T23:06:07.297999300Z",
     "start_time": "2024-05-01T23:06:07.285843700Z"
    }
   },
   "id": "initial_id"
  },
  {
   "cell_type": "code",
   "execution_count": 8,
   "outputs": [
    {
     "data": {
      "text/plain": "['z-003-p1b2sb3 - 2024-03-13 18.14.41.ndpi',\n 'z-006-p1b2sb3 - 2024-03-13 18.17.59.ndpi',\n 'z-009-p1b2sb3 - 2024-03-13 18.21.03.ndpi',\n 'z-012-p1b2sb3 - 2024-03-13 18.23.54.ndpi',\n 'z-015-p1b2sb3 - 2024-03-13 18.38.38.ndpi',\n 'z-018-p1b2sb3 - 2024-03-13 18.41.46.ndpi',\n 'z-021-p1b2sb3 - 2024-03-13 18.44.57.ndpi',\n 'z-024-p1b2sb3 - 2024-03-13 18.48.16.ndpi',\n 'z-027-p1b2sb3 - 2024-03-13 18.51.39.ndpi',\n 'z-030-p1b2sb3 - 2024-03-13 18.54.44.ndpi',\n 'z-033-p1b2sb3 - 2024-03-13 18.58.00.ndpi',\n 'z-036-p1b2sb3 - 2024-03-13 19.00.55.ndpi',\n 'z-039-p1b2sb3 - 2024-03-13 19.04.15.ndpi',\n 'z-042-p1b2sb3 - 2024-03-13 19.07.12.ndpi',\n 'z-045-p1b2sb3 - 2024-03-13 19.10.20.ndpi',\n 'z-048-p1b2sb3 - 2024-03-13 19.13.43.ndpi']"
     },
     "execution_count": 8,
     "metadata": {},
     "output_type": "execute_result"
    }
   ],
   "source": [
    "ims = [_ for _ in os.listdir(src) if _.endswith('.ndpi')]\n",
    "ims"
   ],
   "metadata": {
    "collapsed": false,
    "ExecuteTime": {
     "end_time": "2024-05-01T23:06:07.813187400Z",
     "start_time": "2024-05-01T23:06:07.652090900Z"
    }
   },
   "id": "5c394e4ec3f6f58c"
  },
  {
   "cell_type": "code",
   "execution_count": 9,
   "outputs": [],
   "source": [
    "for idx,im in enumerate(ims):\n",
    "    im2 = 'D001_B002_SB003_S{}.ndpi'.format(str(idx+1).zfill(3))\n",
    "    shutil.move(os.path.join(src,im),os.path.join(dst,im2))"
   ],
   "metadata": {
    "collapsed": false,
    "ExecuteTime": {
     "end_time": "2024-05-01T23:06:26.912855300Z",
     "start_time": "2024-05-01T23:06:15.470163600Z"
    }
   },
   "id": "61bd79bf739e0489"
  },
  {
   "cell_type": "code",
   "execution_count": 1,
   "outputs": [],
   "source": [
    "import os\n",
    "src = r'\\\\10.99.68.54\\Digital pathology image lib\\HubMap Skin TMC project\\Data_upload\\D006B008\\raw\\images'\n",
    "ims = [_ for _ in os.listdir(src) if _.endswith('.ndpi')]\n",
    "for idx,im in enumerate(ims):\n",
    "    im2 = 'D006_B008_SB002_S{}.ndpi'.format(str(idx+1).zfill(3))\n",
    "    os.rename(os.path.join(src,im),os.path.join(src,im2))"
   ],
   "metadata": {
    "collapsed": false,
    "ExecuteTime": {
     "end_time": "2024-05-01T22:05:57.291053100Z",
     "start_time": "2024-05-01T22:05:57.057560100Z"
    }
   },
   "id": "960928a016b66b91"
  },
  {
   "cell_type": "code",
   "execution_count": null,
   "outputs": [],
   "source": [],
   "metadata": {
    "collapsed": false
   },
   "id": "3d08870585d6c2c1"
  }
 ],
 "metadata": {
  "kernelspec": {
   "display_name": "Python 3",
   "language": "python",
   "name": "python3"
  },
  "language_info": {
   "codemirror_mode": {
    "name": "ipython",
    "version": 2
   },
   "file_extension": ".py",
   "mimetype": "text/x-python",
   "name": "python",
   "nbconvert_exporter": "python",
   "pygments_lexer": "ipython2",
   "version": "2.7.6"
  }
 },
 "nbformat": 4,
 "nbformat_minor": 5
}
