{
 "cells": [
  {
   "cell_type": "code",
   "source": [
    "import scanpy as sc\n",
    "import scipy.io as sio\n",
    "import os\n",
    "\n",
    "# src = r'\\\\10.99.68.54\\Digital pathology image lib\\HubMap Skin TMC project\\visium\\240529_skin\\DW02JHU501_000_analysis\\spaceranger\\count\\HMP026_16\\outs'\n",
    "rt = r'\\\\10.99.68.54\\Digital pathology image lib\\HubMap Skin TMC project\\visium\\240529_skin\\DW02JHU501_000_analysis\\spaceranger\\count'\n",
    "srcs = [os.path.join(*[rt,_,'outs']) for _ in os.listdir(rt)]\n",
    "for src in srcs:\n",
    "    adata = sc.read_visium(src)\n",
    "    adata.var_names_make_unique()\n",
    "\n",
    "    sio.savemat(os.path.join(src,'original_genes.mat'),{'genes':adata.var_names.values.tolist()})\n",
    "    sio.savemat(os.path.join(src,'original_barcodes.mat'),{'genes':adata.obs_names.values.tolist()})\n",
    "\n",
    "    tmp=sc.get.obs_df(adata,keys=adata.var_names.values.tolist())\n",
    "    sio.savemat(os.path.join(src,'original_data.mat'),{'mat': tmp.values})"
   ],
   "metadata": {
    "collapsed": false,
    "ExecuteTime": {
     "end_time": "2024-11-22T19:11:00.838093Z",
     "start_time": "2024-11-22T19:10:57.069529Z"
    }
   },
   "id": "38cf945b19a8b88b",
   "outputs": [
    {
     "ename": "FileNotFoundError",
     "evalue": "[Errno 2] Unable to synchronously open file (unable to open file: name = '\\\\10.99.68.54\\Digital pathology image lib\\lymphpdac VisiumHD\\LK01JHU511_000_analysis\\count\\PDAC\\outs\\filtered_feature_bc_matrix.h5', errno = 2, error message = 'No such file or directory', flags = 0, o_flags = 0)",
     "output_type": "error",
     "traceback": [
      "\u001B[1;31m---------------------------------------------------------------------------\u001B[0m",
      "\u001B[1;31mFileNotFoundError\u001B[0m                         Traceback (most recent call last)",
      "Cell \u001B[1;32mIn[1], line 6\u001B[0m\n\u001B[0;32m      3\u001B[0m \u001B[38;5;28;01mimport\u001B[39;00m \u001B[38;5;21;01mos\u001B[39;00m\n\u001B[0;32m      5\u001B[0m src \u001B[38;5;241m=\u001B[39m \u001B[38;5;124mr\u001B[39m\u001B[38;5;124m'\u001B[39m\u001B[38;5;130;01m\\\\\u001B[39;00m\u001B[38;5;124m10.99.68.54\u001B[39m\u001B[38;5;124m\\\u001B[39m\u001B[38;5;124mDigital pathology image lib\u001B[39m\u001B[38;5;124m\\\u001B[39m\u001B[38;5;124mlymphpdac VisiumHD\u001B[39m\u001B[38;5;124m\\\u001B[39m\u001B[38;5;124mLK01JHU511_000_analysis\u001B[39m\u001B[38;5;124m\\\u001B[39m\u001B[38;5;124mcount\u001B[39m\u001B[38;5;124m\\\u001B[39m\u001B[38;5;124mPDAC\u001B[39m\u001B[38;5;124m\\\u001B[39m\u001B[38;5;124mouts\u001B[39m\u001B[38;5;124m'\u001B[39m\n\u001B[1;32m----> 6\u001B[0m adata \u001B[38;5;241m=\u001B[39m \u001B[43msc\u001B[49m\u001B[38;5;241;43m.\u001B[39;49m\u001B[43mread_visium\u001B[49m\u001B[43m(\u001B[49m\u001B[43msrc\u001B[49m\u001B[43m)\u001B[49m\n\u001B[0;32m      7\u001B[0m adata\u001B[38;5;241m.\u001B[39mvar_names_make_unique()\n",
      "File \u001B[1;32m~\\.conda\\envs\\TMC-JHU\\lib\\site-packages\\scanpy\\readwrite.py:362\u001B[0m, in \u001B[0;36mread_visium\u001B[1;34m(path, genome, count_file, library_id, load_images, source_image_path)\u001B[0m\n\u001B[0;32m    308\u001B[0m \u001B[38;5;250m\u001B[39m\u001B[38;5;124;03m\"\"\"\\\u001B[39;00m\n\u001B[0;32m    309\u001B[0m \u001B[38;5;124;03mRead 10x-Genomics-formatted visum dataset.\u001B[39;00m\n\u001B[0;32m    310\u001B[0m \n\u001B[1;32m   (...)\u001B[0m\n\u001B[0;32m    359\u001B[0m \u001B[38;5;124;03m    Spatial spot coordinates, usable as `basis` by :func:`~scanpy.pl.embedding`.\u001B[39;00m\n\u001B[0;32m    360\u001B[0m \u001B[38;5;124;03m\"\"\"\u001B[39;00m\n\u001B[0;32m    361\u001B[0m path \u001B[38;5;241m=\u001B[39m Path(path)\n\u001B[1;32m--> 362\u001B[0m adata \u001B[38;5;241m=\u001B[39m \u001B[43mread_10x_h5\u001B[49m\u001B[43m(\u001B[49m\u001B[43mpath\u001B[49m\u001B[43m \u001B[49m\u001B[38;5;241;43m/\u001B[39;49m\u001B[43m \u001B[49m\u001B[43mcount_file\u001B[49m\u001B[43m,\u001B[49m\u001B[43m \u001B[49m\u001B[43mgenome\u001B[49m\u001B[38;5;241;43m=\u001B[39;49m\u001B[43mgenome\u001B[49m\u001B[43m)\u001B[49m\n\u001B[0;32m    364\u001B[0m adata\u001B[38;5;241m.\u001B[39muns[\u001B[38;5;124m\"\u001B[39m\u001B[38;5;124mspatial\u001B[39m\u001B[38;5;124m\"\u001B[39m] \u001B[38;5;241m=\u001B[39m \u001B[38;5;28mdict\u001B[39m()\n\u001B[0;32m    366\u001B[0m \u001B[38;5;28;01mfrom\u001B[39;00m \u001B[38;5;21;01mh5py\u001B[39;00m \u001B[38;5;28;01mimport\u001B[39;00m File\n",
      "File \u001B[1;32m~\\.conda\\envs\\TMC-JHU\\lib\\site-packages\\scanpy\\readwrite.py:182\u001B[0m, in \u001B[0;36mread_10x_h5\u001B[1;34m(filename, genome, gex_only, backup_url)\u001B[0m\n\u001B[0;32m    180\u001B[0m \u001B[38;5;28;01mif\u001B[39;00m \u001B[38;5;129;01mnot\u001B[39;00m is_present:\n\u001B[0;32m    181\u001B[0m     logg\u001B[38;5;241m.\u001B[39mdebug(\u001B[38;5;124mf\u001B[39m\u001B[38;5;124m\"\u001B[39m\u001B[38;5;124m... did not find original file \u001B[39m\u001B[38;5;132;01m{\u001B[39;00mfilename\u001B[38;5;132;01m}\u001B[39;00m\u001B[38;5;124m\"\u001B[39m)\n\u001B[1;32m--> 182\u001B[0m \u001B[38;5;28;01mwith\u001B[39;00m \u001B[43mh5py\u001B[49m\u001B[38;5;241;43m.\u001B[39;49m\u001B[43mFile\u001B[49m\u001B[43m(\u001B[49m\u001B[38;5;28;43mstr\u001B[39;49m\u001B[43m(\u001B[49m\u001B[43mfilename\u001B[49m\u001B[43m)\u001B[49m\u001B[43m,\u001B[49m\u001B[43m \u001B[49m\u001B[38;5;124;43m\"\u001B[39;49m\u001B[38;5;124;43mr\u001B[39;49m\u001B[38;5;124;43m\"\u001B[39;49m\u001B[43m)\u001B[49m \u001B[38;5;28;01mas\u001B[39;00m f:\n\u001B[0;32m    183\u001B[0m     v3 \u001B[38;5;241m=\u001B[39m \u001B[38;5;124m\"\u001B[39m\u001B[38;5;124m/matrix\u001B[39m\u001B[38;5;124m\"\u001B[39m \u001B[38;5;129;01min\u001B[39;00m f\n\u001B[0;32m    184\u001B[0m \u001B[38;5;28;01mif\u001B[39;00m v3:\n",
      "File \u001B[1;32m~\\.conda\\envs\\TMC-JHU\\lib\\site-packages\\h5py\\_hl\\files.py:562\u001B[0m, in \u001B[0;36mFile.__init__\u001B[1;34m(self, name, mode, driver, libver, userblock_size, swmr, rdcc_nslots, rdcc_nbytes, rdcc_w0, track_order, fs_strategy, fs_persist, fs_threshold, fs_page_size, page_buf_size, min_meta_keep, min_raw_keep, locking, alignment_threshold, alignment_interval, meta_block_size, **kwds)\u001B[0m\n\u001B[0;32m    553\u001B[0m     fapl \u001B[38;5;241m=\u001B[39m make_fapl(driver, libver, rdcc_nslots, rdcc_nbytes, rdcc_w0,\n\u001B[0;32m    554\u001B[0m                      locking, page_buf_size, min_meta_keep, min_raw_keep,\n\u001B[0;32m    555\u001B[0m                      alignment_threshold\u001B[38;5;241m=\u001B[39malignment_threshold,\n\u001B[0;32m    556\u001B[0m                      alignment_interval\u001B[38;5;241m=\u001B[39malignment_interval,\n\u001B[0;32m    557\u001B[0m                      meta_block_size\u001B[38;5;241m=\u001B[39mmeta_block_size,\n\u001B[0;32m    558\u001B[0m                      \u001B[38;5;241m*\u001B[39m\u001B[38;5;241m*\u001B[39mkwds)\n\u001B[0;32m    559\u001B[0m     fcpl \u001B[38;5;241m=\u001B[39m make_fcpl(track_order\u001B[38;5;241m=\u001B[39mtrack_order, fs_strategy\u001B[38;5;241m=\u001B[39mfs_strategy,\n\u001B[0;32m    560\u001B[0m                      fs_persist\u001B[38;5;241m=\u001B[39mfs_persist, fs_threshold\u001B[38;5;241m=\u001B[39mfs_threshold,\n\u001B[0;32m    561\u001B[0m                      fs_page_size\u001B[38;5;241m=\u001B[39mfs_page_size)\n\u001B[1;32m--> 562\u001B[0m     fid \u001B[38;5;241m=\u001B[39m \u001B[43mmake_fid\u001B[49m\u001B[43m(\u001B[49m\u001B[43mname\u001B[49m\u001B[43m,\u001B[49m\u001B[43m \u001B[49m\u001B[43mmode\u001B[49m\u001B[43m,\u001B[49m\u001B[43m \u001B[49m\u001B[43muserblock_size\u001B[49m\u001B[43m,\u001B[49m\u001B[43m \u001B[49m\u001B[43mfapl\u001B[49m\u001B[43m,\u001B[49m\u001B[43m \u001B[49m\u001B[43mfcpl\u001B[49m\u001B[43m,\u001B[49m\u001B[43m \u001B[49m\u001B[43mswmr\u001B[49m\u001B[38;5;241;43m=\u001B[39;49m\u001B[43mswmr\u001B[49m\u001B[43m)\u001B[49m\n\u001B[0;32m    564\u001B[0m \u001B[38;5;28;01mif\u001B[39;00m \u001B[38;5;28misinstance\u001B[39m(libver, \u001B[38;5;28mtuple\u001B[39m):\n\u001B[0;32m    565\u001B[0m     \u001B[38;5;28mself\u001B[39m\u001B[38;5;241m.\u001B[39m_libver \u001B[38;5;241m=\u001B[39m libver\n",
      "File \u001B[1;32m~\\.conda\\envs\\TMC-JHU\\lib\\site-packages\\h5py\\_hl\\files.py:235\u001B[0m, in \u001B[0;36mmake_fid\u001B[1;34m(name, mode, userblock_size, fapl, fcpl, swmr)\u001B[0m\n\u001B[0;32m    233\u001B[0m     \u001B[38;5;28;01mif\u001B[39;00m swmr \u001B[38;5;129;01mand\u001B[39;00m swmr_support:\n\u001B[0;32m    234\u001B[0m         flags \u001B[38;5;241m|\u001B[39m\u001B[38;5;241m=\u001B[39m h5f\u001B[38;5;241m.\u001B[39mACC_SWMR_READ\n\u001B[1;32m--> 235\u001B[0m     fid \u001B[38;5;241m=\u001B[39m \u001B[43mh5f\u001B[49m\u001B[38;5;241;43m.\u001B[39;49m\u001B[43mopen\u001B[49m\u001B[43m(\u001B[49m\u001B[43mname\u001B[49m\u001B[43m,\u001B[49m\u001B[43m \u001B[49m\u001B[43mflags\u001B[49m\u001B[43m,\u001B[49m\u001B[43m \u001B[49m\u001B[43mfapl\u001B[49m\u001B[38;5;241;43m=\u001B[39;49m\u001B[43mfapl\u001B[49m\u001B[43m)\u001B[49m\n\u001B[0;32m    236\u001B[0m \u001B[38;5;28;01melif\u001B[39;00m mode \u001B[38;5;241m==\u001B[39m \u001B[38;5;124m'\u001B[39m\u001B[38;5;124mr+\u001B[39m\u001B[38;5;124m'\u001B[39m:\n\u001B[0;32m    237\u001B[0m     fid \u001B[38;5;241m=\u001B[39m h5f\u001B[38;5;241m.\u001B[39mopen(name, h5f\u001B[38;5;241m.\u001B[39mACC_RDWR, fapl\u001B[38;5;241m=\u001B[39mfapl)\n",
      "File \u001B[1;32mh5py\\\\_objects.pyx:54\u001B[0m, in \u001B[0;36mh5py._objects.with_phil.wrapper\u001B[1;34m()\u001B[0m\n",
      "File \u001B[1;32mh5py\\\\_objects.pyx:55\u001B[0m, in \u001B[0;36mh5py._objects.with_phil.wrapper\u001B[1;34m()\u001B[0m\n",
      "File \u001B[1;32mh5py\\\\h5f.pyx:102\u001B[0m, in \u001B[0;36mh5py.h5f.open\u001B[1;34m()\u001B[0m\n",
      "\u001B[1;31mFileNotFoundError\u001B[0m: [Errno 2] Unable to synchronously open file (unable to open file: name = '\\\\10.99.68.54\\Digital pathology image lib\\lymphpdac VisiumHD\\LK01JHU511_000_analysis\\count\\PDAC\\outs\\filtered_feature_bc_matrix.h5', errno = 2, error message = 'No such file or directory', flags = 0, o_flags = 0)"
     ]
    }
   ],
   "execution_count": 1
  },
  {
   "metadata": {
    "ExecuteTime": {
     "end_time": "2024-11-22T20:23:17.911937Z",
     "start_time": "2024-11-22T20:23:17.215836Z"
    }
   },
   "cell_type": "code",
   "source": [
    "import scanpy as sc\n",
    "src = r'\\\\10.99.68.54\\Digital pathology image lib\\HubMap Skin TMC project\\visium\\240529_skin\\DW02JHU501_000_analysis\\spaceranger\\count\\HMP026_16\\outs'\n",
    "adata = sc.read_visium(src)\n",
    "adata.var_names_make_unique()"
   ],
   "id": "dd233bef8dc1e8d3",
   "outputs": [
    {
     "name": "stderr",
     "output_type": "stream",
     "text": [
      "C:\\Users\\labadmin\\.conda\\envs\\TMC-JHU\\lib\\site-packages\\anndata\\_core\\anndata.py:1840: UserWarning: Variable names are not unique. To make them unique, call `.var_names_make_unique`.\n",
      "  using helpers from the :doc:`hdf5plugin <hdf5plugin:usage>`\n",
      "C:\\Users\\labadmin\\.conda\\envs\\TMC-JHU\\lib\\site-packages\\anndata\\_core\\anndata.py:1840: UserWarning: Variable names are not unique. To make them unique, call `.var_names_make_unique`.\n",
      "  using helpers from the :doc:`hdf5plugin <hdf5plugin:usage>`\n"
     ]
    }
   ],
   "execution_count": 4
  },
  {
   "metadata": {
    "ExecuteTime": {
     "end_time": "2024-11-22T20:23:25.231202Z",
     "start_time": "2024-11-22T20:23:25.217134Z"
    }
   },
   "cell_type": "code",
   "source": "adata",
   "id": "47df6630707326cc",
   "outputs": [
    {
     "data": {
      "text/plain": [
       "AnnData object with n_obs × n_vars = 1491 × 18085\n",
       "    obs: 'in_tissue', 'array_row', 'array_col'\n",
       "    var: 'gene_ids', 'feature_types', 'genome'\n",
       "    uns: 'spatial'\n",
       "    obsm: 'spatial'"
      ]
     },
     "execution_count": 5,
     "metadata": {},
     "output_type": "execute_result"
    }
   ],
   "execution_count": 5
  },
  {
   "metadata": {},
   "cell_type": "code",
   "outputs": [],
   "execution_count": null,
   "source": "",
   "id": "3c9317ba95c36ebc"
  }
 ],
 "metadata": {
  "kernelspec": {
   "display_name": "Python 3",
   "language": "python",
   "name": "python3"
  },
  "language_info": {
   "codemirror_mode": {
    "name": "ipython",
    "version": 2
   },
   "file_extension": ".py",
   "mimetype": "text/x-python",
   "name": "python",
   "nbconvert_exporter": "python",
   "pygments_lexer": "ipython2",
   "version": "2.7.6"
  }
 },
 "nbformat": 4,
 "nbformat_minor": 5
}
