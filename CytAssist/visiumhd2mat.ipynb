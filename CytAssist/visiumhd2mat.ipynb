{
 "cells": [
  {
   "cell_type": "code",
   "id": "initial_id",
   "metadata": {
    "collapsed": true,
    "ExecuteTime": {
     "end_time": "2024-11-22T19:24:02.459536Z",
     "start_time": "2024-11-22T19:21:57.485658Z"
    }
   },
   "source": [
    "from spatialdata_io.readers.visium_hd import visium_hd\n",
    "import scipy.io as sio\n",
    "import os\n",
    "import scanpy as sc\n",
    "import h5py\n",
    "\n",
    "path=r'\\\\10.99.68.54\\Digital pathology image lib\\lymphpdac VisiumHD\\LK01JHU511_000_analysis\\count\\PDAC\\outs'\n",
    "d=visium_hd(path,dataset_id='',filtered_counts_file=True,bin_size=None)"
   ],
   "outputs": [
    {
     "name": "stderr",
     "output_type": "stream",
     "text": [
      "C:\\Users\\labadmin\\.conda\\envs\\TMC-JHU\\lib\\site-packages\\anndata\\_core\\anndata.py:1756: UserWarning: Variable names are not unique. To make them unique, call `.var_names_make_unique`.\n",
      "  utils.warn_names_duplicates(\"var\")\n",
      "C:\\Users\\labadmin\\.conda\\envs\\TMC-JHU\\lib\\site-packages\\anndata\\_core\\anndata.py:1756: UserWarning: Variable names are not unique. To make them unique, call `.var_names_make_unique`.\n",
      "  utils.warn_names_duplicates(\"var\")\n",
      "C:\\Users\\labadmin\\.conda\\envs\\TMC-JHU\\lib\\site-packages\\anndata\\_core\\anndata.py:1756: UserWarning: Variable names are not unique. To make them unique, call `.var_names_make_unique`.\n",
      "  utils.warn_names_duplicates(\"var\")\n",
      "C:\\Users\\labadmin\\AppData\\Local\\Temp\\ipykernel_14576\\399445093.py:3: UserWarning: No full resolution image found. If incorrect, please specify the path in the `fullres_image_file` parameter when calling the `visium_hd` reader function.\n",
      "  d=visium_hd(path,dataset_id='',filtered_counts_file=True,bin_size=None)\n"
     ]
    }
   ],
   "execution_count": 7
  },
  {
   "metadata": {
    "ExecuteTime": {
     "end_time": "2024-11-22T20:26:31.409897Z",
     "start_time": "2024-11-22T20:26:31.396808Z"
    }
   },
   "cell_type": "code",
   "source": [
    "adata = d.tables['square_016um']\n",
    "adata.var_names_make_unique()"
   ],
   "id": "3cc2c6245a0e092e",
   "outputs": [],
   "execution_count": 30
  },
  {
   "metadata": {
    "ExecuteTime": {
     "end_time": "2024-11-22T20:27:14.712660Z",
     "start_time": "2024-11-22T20:26:33.729140Z"
    }
   },
   "cell_type": "code",
   "source": [
    "\n",
    "sio.savemat(os.path.join(path,'original_genes.mat'),{'genes':adata.var_names.values.tolist()})\n",
    "sio.savemat(os.path.join(path,'original_barcodes.mat'),{'genes':adata.obs_names.values.tolist()})\n"
   ],
   "id": "ccca4380c4893620",
   "outputs": [
    {
     "ename": "OverflowError",
     "evalue": "Python int too large to convert to C long",
     "output_type": "error",
     "traceback": [
      "\u001B[1;31m---------------------------------------------------------------------------\u001B[0m",
      "\u001B[1;31mOverflowError\u001B[0m                             Traceback (most recent call last)",
      "Cell \u001B[1;32mIn[31], line 7\u001B[0m\n\u001B[0;32m      5\u001B[0m sio\u001B[38;5;241m.\u001B[39msavemat(os\u001B[38;5;241m.\u001B[39mpath\u001B[38;5;241m.\u001B[39mjoin(path,\u001B[38;5;124m'\u001B[39m\u001B[38;5;124moriginal_barcodes.mat\u001B[39m\u001B[38;5;124m'\u001B[39m),{\u001B[38;5;124m'\u001B[39m\u001B[38;5;124mgenes\u001B[39m\u001B[38;5;124m'\u001B[39m:adata\u001B[38;5;241m.\u001B[39mobs_names\u001B[38;5;241m.\u001B[39mvalues\u001B[38;5;241m.\u001B[39mtolist()})\n\u001B[0;32m      6\u001B[0m tmp\u001B[38;5;241m=\u001B[39msc\u001B[38;5;241m.\u001B[39mget\u001B[38;5;241m.\u001B[39mobs_df(adata,keys\u001B[38;5;241m=\u001B[39madata\u001B[38;5;241m.\u001B[39mvar_names\u001B[38;5;241m.\u001B[39mvalues\u001B[38;5;241m.\u001B[39mtolist())\n\u001B[1;32m----> 7\u001B[0m \u001B[43msio\u001B[49m\u001B[38;5;241;43m.\u001B[39;49m\u001B[43msavemat\u001B[49m\u001B[43m(\u001B[49m\u001B[43mos\u001B[49m\u001B[38;5;241;43m.\u001B[39;49m\u001B[43mpath\u001B[49m\u001B[38;5;241;43m.\u001B[39;49m\u001B[43mjoin\u001B[49m\u001B[43m(\u001B[49m\u001B[43mpath\u001B[49m\u001B[43m,\u001B[49m\u001B[38;5;124;43m'\u001B[39;49m\u001B[38;5;124;43moriginal_data.mat\u001B[39;49m\u001B[38;5;124;43m'\u001B[39;49m\u001B[43m)\u001B[49m\u001B[43m,\u001B[49m\u001B[43m{\u001B[49m\u001B[38;5;124;43m'\u001B[39;49m\u001B[38;5;124;43mmat\u001B[39;49m\u001B[38;5;124;43m'\u001B[39;49m\u001B[43m:\u001B[49m\u001B[43m \u001B[49m\u001B[43mtmp\u001B[49m\u001B[38;5;241;43m.\u001B[39;49m\u001B[43mvalues\u001B[49m\u001B[43m}\u001B[49m\u001B[43m)\u001B[49m\n",
      "File \u001B[1;32m~\\.conda\\envs\\TMC-JHU\\lib\\site-packages\\scipy\\io\\matlab\\_mio.py:301\u001B[0m, in \u001B[0;36msavemat\u001B[1;34m(file_name, mdict, appendmat, format, long_field_names, do_compression, oned_as)\u001B[0m\n\u001B[0;32m    299\u001B[0m \u001B[38;5;28;01melse\u001B[39;00m:\n\u001B[0;32m    300\u001B[0m     \u001B[38;5;28;01mraise\u001B[39;00m \u001B[38;5;167;01mValueError\u001B[39;00m(\u001B[38;5;124m\"\u001B[39m\u001B[38;5;124mFormat should be \u001B[39m\u001B[38;5;124m'\u001B[39m\u001B[38;5;124m4\u001B[39m\u001B[38;5;124m'\u001B[39m\u001B[38;5;124m or \u001B[39m\u001B[38;5;124m'\u001B[39m\u001B[38;5;124m5\u001B[39m\u001B[38;5;124m'\u001B[39m\u001B[38;5;124m\"\u001B[39m)\n\u001B[1;32m--> 301\u001B[0m \u001B[43mMW\u001B[49m\u001B[38;5;241;43m.\u001B[39;49m\u001B[43mput_variables\u001B[49m\u001B[43m(\u001B[49m\u001B[43mmdict\u001B[49m\u001B[43m)\u001B[49m\n",
      "File \u001B[1;32m~\\.conda\\envs\\TMC-JHU\\lib\\site-packages\\scipy\\io\\matlab\\_mio5.py:892\u001B[0m, in \u001B[0;36mMatFile5Writer.put_variables\u001B[1;34m(self, mdict, write_header)\u001B[0m\n\u001B[0;32m    890\u001B[0m     \u001B[38;5;28mself\u001B[39m\u001B[38;5;241m.\u001B[39mfile_stream\u001B[38;5;241m.\u001B[39mwrite(out_str)\n\u001B[0;32m    891\u001B[0m \u001B[38;5;28;01melse\u001B[39;00m:  \u001B[38;5;66;03m# not compressing\u001B[39;00m\n\u001B[1;32m--> 892\u001B[0m     \u001B[38;5;28;43mself\u001B[39;49m\u001B[38;5;241;43m.\u001B[39;49m\u001B[43m_matrix_writer\u001B[49m\u001B[38;5;241;43m.\u001B[39;49m\u001B[43mwrite_top\u001B[49m\u001B[43m(\u001B[49m\u001B[43mvar\u001B[49m\u001B[43m,\u001B[49m\u001B[43m \u001B[49m\u001B[43mname\u001B[49m\u001B[38;5;241;43m.\u001B[39;49m\u001B[43mencode\u001B[49m\u001B[43m(\u001B[49m\u001B[38;5;124;43m'\u001B[39;49m\u001B[38;5;124;43mlatin1\u001B[39;49m\u001B[38;5;124;43m'\u001B[39;49m\u001B[43m)\u001B[49m\u001B[43m,\u001B[49m\u001B[43m \u001B[49m\u001B[43mis_global\u001B[49m\u001B[43m)\u001B[49m\n",
      "File \u001B[1;32m~\\.conda\\envs\\TMC-JHU\\lib\\site-packages\\scipy\\io\\matlab\\_mio5.py:634\u001B[0m, in \u001B[0;36mVarWriter5.write_top\u001B[1;34m(self, arr, name, is_global)\u001B[0m\n\u001B[0;32m    632\u001B[0m \u001B[38;5;28mself\u001B[39m\u001B[38;5;241m.\u001B[39m_var_name \u001B[38;5;241m=\u001B[39m name\n\u001B[0;32m    633\u001B[0m \u001B[38;5;66;03m# write the header and data\u001B[39;00m\n\u001B[1;32m--> 634\u001B[0m \u001B[38;5;28;43mself\u001B[39;49m\u001B[38;5;241;43m.\u001B[39;49m\u001B[43mwrite\u001B[49m\u001B[43m(\u001B[49m\u001B[43marr\u001B[49m\u001B[43m)\u001B[49m\n",
      "File \u001B[1;32m~\\.conda\\envs\\TMC-JHU\\lib\\site-packages\\scipy\\io\\matlab\\_mio5.py:672\u001B[0m, in \u001B[0;36mVarWriter5.write\u001B[1;34m(self, arr)\u001B[0m\n\u001B[0;32m    670\u001B[0m     \u001B[38;5;28mself\u001B[39m\u001B[38;5;241m.\u001B[39mwrite_char(narr, codec)\n\u001B[0;32m    671\u001B[0m \u001B[38;5;28;01melse\u001B[39;00m:\n\u001B[1;32m--> 672\u001B[0m     \u001B[38;5;28;43mself\u001B[39;49m\u001B[38;5;241;43m.\u001B[39;49m\u001B[43mwrite_numeric\u001B[49m\u001B[43m(\u001B[49m\u001B[43mnarr\u001B[49m\u001B[43m)\u001B[49m\n\u001B[0;32m    673\u001B[0m \u001B[38;5;28mself\u001B[39m\u001B[38;5;241m.\u001B[39mupdate_matrix_tag(mat_tag_pos)\n",
      "File \u001B[1;32m~\\.conda\\envs\\TMC-JHU\\lib\\site-packages\\scipy\\io\\matlab\\_mio5.py:698\u001B[0m, in \u001B[0;36mVarWriter5.write_numeric\u001B[1;34m(self, arr)\u001B[0m\n\u001B[0;32m    696\u001B[0m     \u001B[38;5;28mself\u001B[39m\u001B[38;5;241m.\u001B[39mwrite_element(arr\u001B[38;5;241m.\u001B[39mimag)\n\u001B[0;32m    697\u001B[0m \u001B[38;5;28;01melse\u001B[39;00m:\n\u001B[1;32m--> 698\u001B[0m     \u001B[38;5;28;43mself\u001B[39;49m\u001B[38;5;241;43m.\u001B[39;49m\u001B[43mwrite_element\u001B[49m\u001B[43m(\u001B[49m\u001B[43marr\u001B[49m\u001B[43m)\u001B[49m\n",
      "File \u001B[1;32m~\\.conda\\envs\\TMC-JHU\\lib\\site-packages\\scipy\\io\\matlab\\_mio5.py:540\u001B[0m, in \u001B[0;36mVarWriter5.write_element\u001B[1;34m(self, arr, mdtype)\u001B[0m\n\u001B[0;32m    538\u001B[0m     \u001B[38;5;28mself\u001B[39m\u001B[38;5;241m.\u001B[39mwrite_smalldata_element(arr, mdtype, byte_count)\n\u001B[0;32m    539\u001B[0m \u001B[38;5;28;01melse\u001B[39;00m:\n\u001B[1;32m--> 540\u001B[0m     \u001B[38;5;28;43mself\u001B[39;49m\u001B[38;5;241;43m.\u001B[39;49m\u001B[43mwrite_regular_element\u001B[49m\u001B[43m(\u001B[49m\u001B[43marr\u001B[49m\u001B[43m,\u001B[49m\u001B[43m \u001B[49m\u001B[43mmdtype\u001B[49m\u001B[43m,\u001B[49m\u001B[43m \u001B[49m\u001B[43mbyte_count\u001B[49m\u001B[43m)\u001B[49m\n",
      "File \u001B[1;32m~\\.conda\\envs\\TMC-JHU\\lib\\site-packages\\scipy\\io\\matlab\\_mio5.py:554\u001B[0m, in \u001B[0;36mVarWriter5.write_regular_element\u001B[1;34m(self, arr, mdtype, byte_count)\u001B[0m\n\u001B[0;32m    552\u001B[0m tag \u001B[38;5;241m=\u001B[39m np\u001B[38;5;241m.\u001B[39mzeros((), NDT_TAG_FULL)\n\u001B[0;32m    553\u001B[0m tag[\u001B[38;5;124m'\u001B[39m\u001B[38;5;124mmdtype\u001B[39m\u001B[38;5;124m'\u001B[39m] \u001B[38;5;241m=\u001B[39m mdtype\n\u001B[1;32m--> 554\u001B[0m \u001B[43mtag\u001B[49m\u001B[43m[\u001B[49m\u001B[38;5;124;43m'\u001B[39;49m\u001B[38;5;124;43mbyte_count\u001B[39;49m\u001B[38;5;124;43m'\u001B[39;49m\u001B[43m]\u001B[49m \u001B[38;5;241m=\u001B[39m byte_count\n\u001B[0;32m    555\u001B[0m \u001B[38;5;28mself\u001B[39m\u001B[38;5;241m.\u001B[39mwrite_bytes(tag)\n\u001B[0;32m    556\u001B[0m \u001B[38;5;28mself\u001B[39m\u001B[38;5;241m.\u001B[39mwrite_bytes(arr)\n",
      "\u001B[1;31mOverflowError\u001B[0m: Python int too large to convert to C long"
     ]
    }
   ],
   "execution_count": 31
  },
  {
   "metadata": {
    "ExecuteTime": {
     "end_time": "2024-11-22T20:57:03.428687Z",
     "start_time": "2024-11-22T20:52:57.833206Z"
    }
   },
   "cell_type": "code",
   "source": [
    "\n",
    "tmp=sc.get.obs_df(adata,keys=adata.var_names.values.tolist())\n",
    "with h5py.File(os.path.join(path, 'original_data.h5'), 'w') as h5file:\n",
    "    h5file.create_dataset('mat', data=tmp.values.astype('I'))"
   ],
   "id": "e31ad111f317536c",
   "outputs": [],
   "execution_count": 34
  },
  {
   "metadata": {},
   "cell_type": "code",
   "outputs": [],
   "execution_count": null,
   "source": "",
   "id": "d82f91f31dfbf1b3"
  }
 ],
 "metadata": {
  "kernelspec": {
   "display_name": "Python 3",
   "language": "python",
   "name": "python3"
  },
  "language_info": {
   "codemirror_mode": {
    "name": "ipython",
    "version": 2
   },
   "file_extension": ".py",
   "mimetype": "text/x-python",
   "name": "python",
   "nbconvert_exporter": "python",
   "pygments_lexer": "ipython2",
   "version": "2.7.6"
  }
 },
 "nbformat": 4,
 "nbformat_minor": 5
}
