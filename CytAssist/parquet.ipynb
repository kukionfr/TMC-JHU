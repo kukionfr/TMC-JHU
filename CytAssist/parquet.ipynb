{
 "cells": [
  {
   "cell_type": "code",
   "id": "initial_id",
   "metadata": {
    "collapsed": true,
    "jupyter": {
     "is_executing": true
    },
    "ExecuteTime": {
     "start_time": "2024-11-22T20:40:01.813513Z"
    }
   },
   "source": [
    "import pandas as pd\n",
    "import scipy.io as sio\n",
    "# File path (ensure proper escaping for backslashes or use a raw string)\n",
    "file_path = r\"\\\\10.99.68.54\\Digital pathology image lib\\lymphpdac VisiumHD\\LK01JHU511_000_analysis\\count\\PDAC\\outs\\binned_outputs\\square_002um\\spatial\\tissue_positions.parquet\"\n",
    "\n",
    "# Read the Parquet file\n",
    "tissue_positions = pd.read_parquet(file_path)\n",
    "\n",
    "# Convert DataFrame to a dictionary for saving in .mat format\n",
    "tissue_positions_dict = {col: tissue_positions[col].values for col in tissue_positions.columns}\n",
    "\n",
    "# Save to .mat file\n",
    "sio.savemat(file_path.replace('parquet','mat'), tissue_positions_dict)"
   ],
   "outputs": [],
   "execution_count": null
  },
  {
   "metadata": {},
   "cell_type": "code",
   "outputs": [],
   "execution_count": null,
   "source": "",
   "id": "662ce552cc59a415"
  }
 ],
 "metadata": {
  "kernelspec": {
   "display_name": "Python 3",
   "language": "python",
   "name": "python3"
  },
  "language_info": {
   "codemirror_mode": {
    "name": "ipython",
    "version": 2
   },
   "file_extension": ".py",
   "mimetype": "text/x-python",
   "name": "python",
   "nbconvert_exporter": "python",
   "pygments_lexer": "ipython2",
   "version": "2.7.6"
  }
 },
 "nbformat": 4,
 "nbformat_minor": 5
}
