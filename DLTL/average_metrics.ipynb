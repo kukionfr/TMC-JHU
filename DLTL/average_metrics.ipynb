{
 "cells": [
  {
   "cell_type": "code",
   "execution_count": 1,
   "outputs": [],
   "source": [
    "import pandas as pd\n",
    "import os\n",
    " "
   ],
   "metadata": {
    "collapsed": false,
    "ExecuteTime": {
     "end_time": "2024-05-21T21:10:44.470731600Z",
     "start_time": "2024-05-21T21:10:43.707073100Z"
    }
   },
   "id": "36a6a93a28ef742"
  },
  {
   "cell_type": "code",
   "execution_count": 5,
   "outputs": [
    {
     "data": {
      "text/plain": "'\\\\\\\\10.99.68.31\\\\PW Cloud Exp Documents\\\\Lab work documenting\\\\W-24-04-03 KH Benechmark DLTL workflow with human skin tissue hubmap set\\\\240418_DLTL_master\\\\DLTL_v4\\\\TrainCNN MDL\\\\performance metrics\\\\net_240501-01_trainingConfusionMetricNorm.xlsx'"
     },
     "execution_count": 5,
     "metadata": {},
     "output_type": "execute_result"
    }
   ],
   "source": [
    "DLTLpth = r'\\\\10.99.68.31\\PW Cloud Exp Documents\\Lab work documenting\\W-24-04-03 KH Benechmark DLTL workflow with human skin tissue hubmap set\\240418_DLTL_master\\DLTL_v4'\n",
    "xlsxnm = 'net_240501-01_trainingConfusionMetricNorm.xlsx'\n",
    "xlsxpth = os.path.join(*[DLTLpth,'TrainCNN MDL','performance metrics',xlsxnm])\n",
    "xlsxpth"
   ],
   "metadata": {
    "collapsed": false,
    "ExecuteTime": {
     "end_time": "2024-05-21T21:16:37.626676200Z",
     "start_time": "2024-05-21T21:16:37.602676300Z"
    }
   },
   "id": "initial_id"
  },
  {
   "cell_type": "code",
   "execution_count": 10,
   "outputs": [
    {
     "data": {
      "text/plain": "   Unnamed: 0  Unnamed: 1  Unnamed: 2  Unnamed: 3  Unnamed: 4  Unnamed: 5  \\\n0       blood    0.812859    0.000000    0.014433    0.000000    0.000000   \n1     corneum    0.000000    0.940737    0.000000    0.000000    0.000000   \n2         ecm    0.017394    0.000000    0.882327    0.004484    0.003612   \n3         fat    0.004050    0.000000    0.024833    0.845283    0.000000   \n4    follicle    0.000000    0.000000    0.007368    0.000000    0.976668   \n5      muscle    0.082433    0.000000    0.010409    0.000000    0.000000   \n6       nerve         NaN         NaN         NaN         NaN         NaN   \n7     noLabel    0.015787    0.018077    0.837435    0.005986    0.000216   \n8       noise         NaN         NaN         NaN         NaN         NaN   \n9         oil         NaN         NaN         NaN         NaN         NaN   \n10      shaft    0.000000    0.000000    0.000000    0.000000    0.015504   \n11   spinosum    0.000000    0.023310    0.002444    0.000000    0.000000   \n12      sweat    0.002397    0.000000    0.001684    0.001231    0.000000   \n13      white    0.000260    0.000000    0.230585    0.001978    0.000000   \n\n    Unnamed: 6  Unnamed: 7  Unnamed: 8  Unnamed: 9  Unnamed: 10  Unnamed: 11  \\\n0     0.132360    0.001476         0.0         0.0     0.000000     0.000000   \n1     0.000000    0.000000         0.0         0.0     0.000000     0.000000   \n2     0.060617    0.004544         0.0         0.0     0.000000     0.000000   \n3     0.010303    0.000000         0.0         0.0     0.000000     0.000000   \n4     0.000000    0.000000         0.0         0.0     0.000000     0.015964   \n5     0.898343    0.000310         0.0         0.0     0.000000     0.000000   \n6          NaN         NaN         NaN         NaN          NaN          NaN   \n7     0.035912    0.005284         0.0         0.0     0.000086     0.000022   \n8          NaN         NaN         NaN         NaN          NaN          NaN   \n9          NaN         NaN         NaN         NaN          NaN          NaN   \n10    0.000000    0.000000         0.0         0.0     0.000000     0.984496   \n11    0.000000    0.000000         0.0         0.0     0.000000     0.000000   \n12    0.001620    0.000000         0.0         0.0     0.000000     0.000000   \n13    0.017333    0.000000         0.0         0.0     0.000000     0.000000   \n\n    Unnamed: 12  Unnamed: 13  Unnamed: 14  \n0      0.000000     0.038380     0.000492  \n1      0.059263     0.000000     0.000000  \n2      0.000745     0.015099     0.011177  \n3      0.000000     0.041746     0.073785  \n4      0.000000     0.000000     0.000000  \n5      0.000044     0.007752     0.000709  \n6           NaN          NaN          NaN  \n7      0.019697     0.009769     0.051729  \n8           NaN          NaN          NaN  \n9           NaN          NaN          NaN  \n10     0.000000     0.000000     0.000000  \n11     0.974247     0.000000     0.000000  \n12     0.000000     0.991578     0.001490  \n13     0.000000     0.006506     0.743337  ",
      "text/html": "<div>\n<style scoped>\n    .dataframe tbody tr th:only-of-type {\n        vertical-align: middle;\n    }\n\n    .dataframe tbody tr th {\n        vertical-align: top;\n    }\n\n    .dataframe thead th {\n        text-align: right;\n    }\n</style>\n<table border=\"1\" class=\"dataframe\">\n  <thead>\n    <tr style=\"text-align: right;\">\n      <th></th>\n      <th>Unnamed: 0</th>\n      <th>Unnamed: 1</th>\n      <th>Unnamed: 2</th>\n      <th>Unnamed: 3</th>\n      <th>Unnamed: 4</th>\n      <th>Unnamed: 5</th>\n      <th>Unnamed: 6</th>\n      <th>Unnamed: 7</th>\n      <th>Unnamed: 8</th>\n      <th>Unnamed: 9</th>\n      <th>Unnamed: 10</th>\n      <th>Unnamed: 11</th>\n      <th>Unnamed: 12</th>\n      <th>Unnamed: 13</th>\n      <th>Unnamed: 14</th>\n    </tr>\n  </thead>\n  <tbody>\n    <tr>\n      <th>0</th>\n      <td>blood</td>\n      <td>0.812859</td>\n      <td>0.000000</td>\n      <td>0.014433</td>\n      <td>0.000000</td>\n      <td>0.000000</td>\n      <td>0.132360</td>\n      <td>0.001476</td>\n      <td>0.0</td>\n      <td>0.0</td>\n      <td>0.000000</td>\n      <td>0.000000</td>\n      <td>0.000000</td>\n      <td>0.038380</td>\n      <td>0.000492</td>\n    </tr>\n    <tr>\n      <th>1</th>\n      <td>corneum</td>\n      <td>0.000000</td>\n      <td>0.940737</td>\n      <td>0.000000</td>\n      <td>0.000000</td>\n      <td>0.000000</td>\n      <td>0.000000</td>\n      <td>0.000000</td>\n      <td>0.0</td>\n      <td>0.0</td>\n      <td>0.000000</td>\n      <td>0.000000</td>\n      <td>0.059263</td>\n      <td>0.000000</td>\n      <td>0.000000</td>\n    </tr>\n    <tr>\n      <th>2</th>\n      <td>ecm</td>\n      <td>0.017394</td>\n      <td>0.000000</td>\n      <td>0.882327</td>\n      <td>0.004484</td>\n      <td>0.003612</td>\n      <td>0.060617</td>\n      <td>0.004544</td>\n      <td>0.0</td>\n      <td>0.0</td>\n      <td>0.000000</td>\n      <td>0.000000</td>\n      <td>0.000745</td>\n      <td>0.015099</td>\n      <td>0.011177</td>\n    </tr>\n    <tr>\n      <th>3</th>\n      <td>fat</td>\n      <td>0.004050</td>\n      <td>0.000000</td>\n      <td>0.024833</td>\n      <td>0.845283</td>\n      <td>0.000000</td>\n      <td>0.010303</td>\n      <td>0.000000</td>\n      <td>0.0</td>\n      <td>0.0</td>\n      <td>0.000000</td>\n      <td>0.000000</td>\n      <td>0.000000</td>\n      <td>0.041746</td>\n      <td>0.073785</td>\n    </tr>\n    <tr>\n      <th>4</th>\n      <td>follicle</td>\n      <td>0.000000</td>\n      <td>0.000000</td>\n      <td>0.007368</td>\n      <td>0.000000</td>\n      <td>0.976668</td>\n      <td>0.000000</td>\n      <td>0.000000</td>\n      <td>0.0</td>\n      <td>0.0</td>\n      <td>0.000000</td>\n      <td>0.015964</td>\n      <td>0.000000</td>\n      <td>0.000000</td>\n      <td>0.000000</td>\n    </tr>\n    <tr>\n      <th>5</th>\n      <td>muscle</td>\n      <td>0.082433</td>\n      <td>0.000000</td>\n      <td>0.010409</td>\n      <td>0.000000</td>\n      <td>0.000000</td>\n      <td>0.898343</td>\n      <td>0.000310</td>\n      <td>0.0</td>\n      <td>0.0</td>\n      <td>0.000000</td>\n      <td>0.000000</td>\n      <td>0.000044</td>\n      <td>0.007752</td>\n      <td>0.000709</td>\n    </tr>\n    <tr>\n      <th>6</th>\n      <td>nerve</td>\n      <td>NaN</td>\n      <td>NaN</td>\n      <td>NaN</td>\n      <td>NaN</td>\n      <td>NaN</td>\n      <td>NaN</td>\n      <td>NaN</td>\n      <td>NaN</td>\n      <td>NaN</td>\n      <td>NaN</td>\n      <td>NaN</td>\n      <td>NaN</td>\n      <td>NaN</td>\n      <td>NaN</td>\n    </tr>\n    <tr>\n      <th>7</th>\n      <td>noLabel</td>\n      <td>0.015787</td>\n      <td>0.018077</td>\n      <td>0.837435</td>\n      <td>0.005986</td>\n      <td>0.000216</td>\n      <td>0.035912</td>\n      <td>0.005284</td>\n      <td>0.0</td>\n      <td>0.0</td>\n      <td>0.000086</td>\n      <td>0.000022</td>\n      <td>0.019697</td>\n      <td>0.009769</td>\n      <td>0.051729</td>\n    </tr>\n    <tr>\n      <th>8</th>\n      <td>noise</td>\n      <td>NaN</td>\n      <td>NaN</td>\n      <td>NaN</td>\n      <td>NaN</td>\n      <td>NaN</td>\n      <td>NaN</td>\n      <td>NaN</td>\n      <td>NaN</td>\n      <td>NaN</td>\n      <td>NaN</td>\n      <td>NaN</td>\n      <td>NaN</td>\n      <td>NaN</td>\n      <td>NaN</td>\n    </tr>\n    <tr>\n      <th>9</th>\n      <td>oil</td>\n      <td>NaN</td>\n      <td>NaN</td>\n      <td>NaN</td>\n      <td>NaN</td>\n      <td>NaN</td>\n      <td>NaN</td>\n      <td>NaN</td>\n      <td>NaN</td>\n      <td>NaN</td>\n      <td>NaN</td>\n      <td>NaN</td>\n      <td>NaN</td>\n      <td>NaN</td>\n      <td>NaN</td>\n    </tr>\n    <tr>\n      <th>10</th>\n      <td>shaft</td>\n      <td>0.000000</td>\n      <td>0.000000</td>\n      <td>0.000000</td>\n      <td>0.000000</td>\n      <td>0.015504</td>\n      <td>0.000000</td>\n      <td>0.000000</td>\n      <td>0.0</td>\n      <td>0.0</td>\n      <td>0.000000</td>\n      <td>0.984496</td>\n      <td>0.000000</td>\n      <td>0.000000</td>\n      <td>0.000000</td>\n    </tr>\n    <tr>\n      <th>11</th>\n      <td>spinosum</td>\n      <td>0.000000</td>\n      <td>0.023310</td>\n      <td>0.002444</td>\n      <td>0.000000</td>\n      <td>0.000000</td>\n      <td>0.000000</td>\n      <td>0.000000</td>\n      <td>0.0</td>\n      <td>0.0</td>\n      <td>0.000000</td>\n      <td>0.000000</td>\n      <td>0.974247</td>\n      <td>0.000000</td>\n      <td>0.000000</td>\n    </tr>\n    <tr>\n      <th>12</th>\n      <td>sweat</td>\n      <td>0.002397</td>\n      <td>0.000000</td>\n      <td>0.001684</td>\n      <td>0.001231</td>\n      <td>0.000000</td>\n      <td>0.001620</td>\n      <td>0.000000</td>\n      <td>0.0</td>\n      <td>0.0</td>\n      <td>0.000000</td>\n      <td>0.000000</td>\n      <td>0.000000</td>\n      <td>0.991578</td>\n      <td>0.001490</td>\n    </tr>\n    <tr>\n      <th>13</th>\n      <td>white</td>\n      <td>0.000260</td>\n      <td>0.000000</td>\n      <td>0.230585</td>\n      <td>0.001978</td>\n      <td>0.000000</td>\n      <td>0.017333</td>\n      <td>0.000000</td>\n      <td>0.0</td>\n      <td>0.0</td>\n      <td>0.000000</td>\n      <td>0.000000</td>\n      <td>0.000000</td>\n      <td>0.006506</td>\n      <td>0.743337</td>\n    </tr>\n  </tbody>\n</table>\n</div>"
     },
     "execution_count": 10,
     "metadata": {},
     "output_type": "execute_result"
    }
   ],
   "source": [
    "xlsxdf = pd.read_excel(xlsxpth,sheet_name='im01',skiprows=3)\n",
    "xlsxdf"
   ],
   "metadata": {
    "collapsed": false,
    "ExecuteTime": {
     "end_time": "2024-05-21T21:20:01.116589900Z",
     "start_time": "2024-05-21T21:20:01.041499700Z"
    }
   },
   "id": "74bb2fcef24643aa"
  },
  {
   "cell_type": "code",
   "execution_count": 11,
   "outputs": [
    {
     "data": {
      "text/plain": "Unnamed: 1     0.085016\nUnnamed: 2     0.089284\nUnnamed: 3     0.182865\nUnnamed: 4     0.078088\nUnnamed: 5     0.090545\nUnnamed: 6     0.105135\nUnnamed: 7     0.001056\nUnnamed: 8     0.000000\nUnnamed: 9     0.000000\nUnnamed: 10    0.000008\nUnnamed: 11    0.090953\nUnnamed: 12    0.095818\nUnnamed: 13    0.100984\nUnnamed: 14    0.080247\ndtype: float64"
     },
     "execution_count": 11,
     "metadata": {},
     "output_type": "execute_result"
    }
   ],
   "source": [
    "xlsxdf.mean(axis=0,skipna=True,numeric_only=True)"
   ],
   "metadata": {
    "collapsed": false,
    "ExecuteTime": {
     "end_time": "2024-05-21T21:22:50.609744200Z",
     "start_time": "2024-05-21T21:22:50.574650900Z"
    }
   },
   "id": "f4f3c01837bad389"
  },
  {
   "cell_type": "code",
   "execution_count": 8,
   "outputs": [
    {
     "data": {
      "text/plain": "                             Unnamed: 0  Unnamed: 1  Unnamed: 2  Unnamed: 3  \\\n0   z-012-p3b1sb3 - 2024-03-27 11.07.05         NaN         NaN         NaN   \n1                                   NaN         NaN         NaN         NaN   \n2                                   NaN         NaN         NaN         NaN   \n3                                 blood    0.556598    0.000000    0.024390   \n4                               corneum    0.000000    0.859808    0.000000   \n5                                   ecm    0.043753    0.000000    0.780389   \n6                                   fat    0.000000    0.000000    0.120730   \n7                              follicle    0.014172    0.000000    0.010501   \n8                                muscle    0.099892    0.000000    0.268514   \n9                                 nerve    0.000000    0.000000    0.000000   \n10                              noLabel    0.020138    0.029760    0.769334   \n11                                noise         NaN         NaN         NaN   \n12                                  oil    0.101695    0.000000    0.000000   \n13                                shaft    0.000000    0.000000    0.024759   \n14                             spinosum    0.000000    0.022829    0.000159   \n15                                sweat         NaN         NaN         NaN   \n16                                white    0.015556    0.092032    0.158532   \n\n    Unnamed: 4  Unnamed: 5  Unnamed: 6  Unnamed: 7  Unnamed: 8  Unnamed: 9  \\\n0          NaN         NaN         NaN         NaN         NaN         NaN   \n1          NaN         NaN         NaN         NaN         NaN         NaN   \n2          NaN         NaN         NaN         NaN         NaN         NaN   \n3     0.000000    0.000000    0.216073    0.094434         0.0         0.0   \n4     0.000000    0.000000    0.000000    0.000000         0.0         0.0   \n5     0.000765    0.000072    0.053251    0.014923         0.0         0.0   \n6     0.328622    0.000000    0.001178    0.000000         0.0         0.0   \n7     0.000000    0.878032    0.003067    0.000000         0.0         0.0   \n8     0.000000    0.115673    0.431049    0.048464         0.0         0.0   \n9     0.000000    0.000000    0.120790    0.602787         0.0         0.0   \n10    0.000586    0.015318    0.039524    0.000343         0.0         0.0   \n11         NaN         NaN         NaN         NaN         NaN         NaN   \n12    0.000000    0.688136    0.000000    0.000000         0.0         0.0   \n13    0.000000    0.033571    0.000000    0.000000         0.0         0.0   \n14    0.000000    0.000000    0.000000    0.000000         0.0         0.0   \n15         NaN         NaN         NaN         NaN         NaN         NaN   \n16    0.040494    0.000000    0.000000    0.000000         0.0         0.0   \n\n    Unnamed: 10  Unnamed: 11  Unnamed: 12  Unnamed: 13  Unnamed: 14  \n0           NaN          NaN          NaN          NaN          NaN  \n1           NaN          NaN          NaN          NaN          NaN  \n2           NaN          NaN          NaN          NaN          NaN  \n3      0.000000     0.000000     0.006254     0.000000     0.102251  \n4      0.000000     0.000000     0.140192     0.000000     0.000000  \n5      0.000000     0.000000     0.035795     0.000084     0.070969  \n6      0.000000     0.000000     0.000000     0.000000     0.549470  \n7      0.005065     0.080151     0.000000     0.009014     0.000000  \n8      0.000000     0.000000     0.000000     0.004606     0.031802  \n9      0.000000     0.000000     0.000000     0.000000     0.276423  \n10     0.001281     0.002296     0.073956     0.000100     0.047364  \n11          NaN          NaN          NaN          NaN          NaN  \n12     0.000000     0.000000     0.000000     0.210169     0.000000  \n13     0.000000     0.941670     0.000000     0.000000     0.000000  \n14     0.000000     0.000000     0.977012     0.000000     0.000000  \n15          NaN          NaN          NaN          NaN          NaN  \n16     0.000000     0.000000     0.000000     0.000000     0.693386  ",
      "text/html": "<div>\n<style scoped>\n    .dataframe tbody tr th:only-of-type {\n        vertical-align: middle;\n    }\n\n    .dataframe tbody tr th {\n        vertical-align: top;\n    }\n\n    .dataframe thead th {\n        text-align: right;\n    }\n</style>\n<table border=\"1\" class=\"dataframe\">\n  <thead>\n    <tr style=\"text-align: right;\">\n      <th></th>\n      <th>Unnamed: 0</th>\n      <th>Unnamed: 1</th>\n      <th>Unnamed: 2</th>\n      <th>Unnamed: 3</th>\n      <th>Unnamed: 4</th>\n      <th>Unnamed: 5</th>\n      <th>Unnamed: 6</th>\n      <th>Unnamed: 7</th>\n      <th>Unnamed: 8</th>\n      <th>Unnamed: 9</th>\n      <th>Unnamed: 10</th>\n      <th>Unnamed: 11</th>\n      <th>Unnamed: 12</th>\n      <th>Unnamed: 13</th>\n      <th>Unnamed: 14</th>\n    </tr>\n  </thead>\n  <tbody>\n    <tr>\n      <th>0</th>\n      <td>z-012-p3b1sb3 - 2024-03-27 11.07.05</td>\n      <td>NaN</td>\n      <td>NaN</td>\n      <td>NaN</td>\n      <td>NaN</td>\n      <td>NaN</td>\n      <td>NaN</td>\n      <td>NaN</td>\n      <td>NaN</td>\n      <td>NaN</td>\n      <td>NaN</td>\n      <td>NaN</td>\n      <td>NaN</td>\n      <td>NaN</td>\n      <td>NaN</td>\n    </tr>\n    <tr>\n      <th>1</th>\n      <td>NaN</td>\n      <td>NaN</td>\n      <td>NaN</td>\n      <td>NaN</td>\n      <td>NaN</td>\n      <td>NaN</td>\n      <td>NaN</td>\n      <td>NaN</td>\n      <td>NaN</td>\n      <td>NaN</td>\n      <td>NaN</td>\n      <td>NaN</td>\n      <td>NaN</td>\n      <td>NaN</td>\n      <td>NaN</td>\n    </tr>\n    <tr>\n      <th>2</th>\n      <td>NaN</td>\n      <td>NaN</td>\n      <td>NaN</td>\n      <td>NaN</td>\n      <td>NaN</td>\n      <td>NaN</td>\n      <td>NaN</td>\n      <td>NaN</td>\n      <td>NaN</td>\n      <td>NaN</td>\n      <td>NaN</td>\n      <td>NaN</td>\n      <td>NaN</td>\n      <td>NaN</td>\n      <td>NaN</td>\n    </tr>\n    <tr>\n      <th>3</th>\n      <td>blood</td>\n      <td>0.556598</td>\n      <td>0.000000</td>\n      <td>0.024390</td>\n      <td>0.000000</td>\n      <td>0.000000</td>\n      <td>0.216073</td>\n      <td>0.094434</td>\n      <td>0.0</td>\n      <td>0.0</td>\n      <td>0.000000</td>\n      <td>0.000000</td>\n      <td>0.006254</td>\n      <td>0.000000</td>\n      <td>0.102251</td>\n    </tr>\n    <tr>\n      <th>4</th>\n      <td>corneum</td>\n      <td>0.000000</td>\n      <td>0.859808</td>\n      <td>0.000000</td>\n      <td>0.000000</td>\n      <td>0.000000</td>\n      <td>0.000000</td>\n      <td>0.000000</td>\n      <td>0.0</td>\n      <td>0.0</td>\n      <td>0.000000</td>\n      <td>0.000000</td>\n      <td>0.140192</td>\n      <td>0.000000</td>\n      <td>0.000000</td>\n    </tr>\n    <tr>\n      <th>5</th>\n      <td>ecm</td>\n      <td>0.043753</td>\n      <td>0.000000</td>\n      <td>0.780389</td>\n      <td>0.000765</td>\n      <td>0.000072</td>\n      <td>0.053251</td>\n      <td>0.014923</td>\n      <td>0.0</td>\n      <td>0.0</td>\n      <td>0.000000</td>\n      <td>0.000000</td>\n      <td>0.035795</td>\n      <td>0.000084</td>\n      <td>0.070969</td>\n    </tr>\n    <tr>\n      <th>6</th>\n      <td>fat</td>\n      <td>0.000000</td>\n      <td>0.000000</td>\n      <td>0.120730</td>\n      <td>0.328622</td>\n      <td>0.000000</td>\n      <td>0.001178</td>\n      <td>0.000000</td>\n      <td>0.0</td>\n      <td>0.0</td>\n      <td>0.000000</td>\n      <td>0.000000</td>\n      <td>0.000000</td>\n      <td>0.000000</td>\n      <td>0.549470</td>\n    </tr>\n    <tr>\n      <th>7</th>\n      <td>follicle</td>\n      <td>0.014172</td>\n      <td>0.000000</td>\n      <td>0.010501</td>\n      <td>0.000000</td>\n      <td>0.878032</td>\n      <td>0.003067</td>\n      <td>0.000000</td>\n      <td>0.0</td>\n      <td>0.0</td>\n      <td>0.005065</td>\n      <td>0.080151</td>\n      <td>0.000000</td>\n      <td>0.009014</td>\n      <td>0.000000</td>\n    </tr>\n    <tr>\n      <th>8</th>\n      <td>muscle</td>\n      <td>0.099892</td>\n      <td>0.000000</td>\n      <td>0.268514</td>\n      <td>0.000000</td>\n      <td>0.115673</td>\n      <td>0.431049</td>\n      <td>0.048464</td>\n      <td>0.0</td>\n      <td>0.0</td>\n      <td>0.000000</td>\n      <td>0.000000</td>\n      <td>0.000000</td>\n      <td>0.004606</td>\n      <td>0.031802</td>\n    </tr>\n    <tr>\n      <th>9</th>\n      <td>nerve</td>\n      <td>0.000000</td>\n      <td>0.000000</td>\n      <td>0.000000</td>\n      <td>0.000000</td>\n      <td>0.000000</td>\n      <td>0.120790</td>\n      <td>0.602787</td>\n      <td>0.0</td>\n      <td>0.0</td>\n      <td>0.000000</td>\n      <td>0.000000</td>\n      <td>0.000000</td>\n      <td>0.000000</td>\n      <td>0.276423</td>\n    </tr>\n    <tr>\n      <th>10</th>\n      <td>noLabel</td>\n      <td>0.020138</td>\n      <td>0.029760</td>\n      <td>0.769334</td>\n      <td>0.000586</td>\n      <td>0.015318</td>\n      <td>0.039524</td>\n      <td>0.000343</td>\n      <td>0.0</td>\n      <td>0.0</td>\n      <td>0.001281</td>\n      <td>0.002296</td>\n      <td>0.073956</td>\n      <td>0.000100</td>\n      <td>0.047364</td>\n    </tr>\n    <tr>\n      <th>11</th>\n      <td>noise</td>\n      <td>NaN</td>\n      <td>NaN</td>\n      <td>NaN</td>\n      <td>NaN</td>\n      <td>NaN</td>\n      <td>NaN</td>\n      <td>NaN</td>\n      <td>NaN</td>\n      <td>NaN</td>\n      <td>NaN</td>\n      <td>NaN</td>\n      <td>NaN</td>\n      <td>NaN</td>\n      <td>NaN</td>\n    </tr>\n    <tr>\n      <th>12</th>\n      <td>oil</td>\n      <td>0.101695</td>\n      <td>0.000000</td>\n      <td>0.000000</td>\n      <td>0.000000</td>\n      <td>0.688136</td>\n      <td>0.000000</td>\n      <td>0.000000</td>\n      <td>0.0</td>\n      <td>0.0</td>\n      <td>0.000000</td>\n      <td>0.000000</td>\n      <td>0.000000</td>\n      <td>0.210169</td>\n      <td>0.000000</td>\n    </tr>\n    <tr>\n      <th>13</th>\n      <td>shaft</td>\n      <td>0.000000</td>\n      <td>0.000000</td>\n      <td>0.024759</td>\n      <td>0.000000</td>\n      <td>0.033571</td>\n      <td>0.000000</td>\n      <td>0.000000</td>\n      <td>0.0</td>\n      <td>0.0</td>\n      <td>0.000000</td>\n      <td>0.941670</td>\n      <td>0.000000</td>\n      <td>0.000000</td>\n      <td>0.000000</td>\n    </tr>\n    <tr>\n      <th>14</th>\n      <td>spinosum</td>\n      <td>0.000000</td>\n      <td>0.022829</td>\n      <td>0.000159</td>\n      <td>0.000000</td>\n      <td>0.000000</td>\n      <td>0.000000</td>\n      <td>0.000000</td>\n      <td>0.0</td>\n      <td>0.0</td>\n      <td>0.000000</td>\n      <td>0.000000</td>\n      <td>0.977012</td>\n      <td>0.000000</td>\n      <td>0.000000</td>\n    </tr>\n    <tr>\n      <th>15</th>\n      <td>sweat</td>\n      <td>NaN</td>\n      <td>NaN</td>\n      <td>NaN</td>\n      <td>NaN</td>\n      <td>NaN</td>\n      <td>NaN</td>\n      <td>NaN</td>\n      <td>NaN</td>\n      <td>NaN</td>\n      <td>NaN</td>\n      <td>NaN</td>\n      <td>NaN</td>\n      <td>NaN</td>\n      <td>NaN</td>\n    </tr>\n    <tr>\n      <th>16</th>\n      <td>white</td>\n      <td>0.015556</td>\n      <td>0.092032</td>\n      <td>0.158532</td>\n      <td>0.040494</td>\n      <td>0.000000</td>\n      <td>0.000000</td>\n      <td>0.000000</td>\n      <td>0.0</td>\n      <td>0.0</td>\n      <td>0.000000</td>\n      <td>0.000000</td>\n      <td>0.000000</td>\n      <td>0.000000</td>\n      <td>0.693386</td>\n    </tr>\n  </tbody>\n</table>\n</div>"
     },
     "execution_count": 8,
     "metadata": {},
     "output_type": "execute_result"
    }
   ],
   "source": [
    "xlsxdf = pd.read_excel(xlsxpth,sheet_name='im07')\n",
    "xlsxdf"
   ],
   "metadata": {
    "collapsed": false,
    "ExecuteTime": {
     "end_time": "2024-05-21T21:17:00.984352900Z",
     "start_time": "2024-05-21T21:17:00.907351100Z"
    }
   },
   "id": "3745023266aa2a2b"
  },
  {
   "cell_type": "code",
   "execution_count": null,
   "outputs": [],
   "source": [],
   "metadata": {
    "collapsed": false
   },
   "id": "1db89bb40d75074b"
  }
 ],
 "metadata": {
  "kernelspec": {
   "display_name": "Python 3",
   "language": "python",
   "name": "python3"
  },
  "language_info": {
   "codemirror_mode": {
    "name": "ipython",
    "version": 2
   },
   "file_extension": ".py",
   "mimetype": "text/x-python",
   "name": "python",
   "nbconvert_exporter": "python",
   "pygments_lexer": "ipython2",
   "version": "2.7.6"
  }
 },
 "nbformat": 4,
 "nbformat_minor": 5
}
