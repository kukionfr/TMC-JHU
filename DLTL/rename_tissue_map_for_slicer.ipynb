{
 "cells": [
  {
   "metadata": {
    "ExecuteTime": {
     "end_time": "2024-08-13T19:23:52.629413Z",
     "start_time": "2024-08-13T19:23:52.621439Z"
    }
   },
   "cell_type": "code",
   "source": "import os, shutil",
   "id": "2908527c85ed1cfe",
   "outputs": [],
   "execution_count": 1
  },
  {
   "metadata": {
    "ExecuteTime": {
     "end_time": "2024-08-13T19:23:52.644623Z",
     "start_time": "2024-08-13T19:23:52.630409Z"
    }
   },
   "cell_type": "code",
   "source": [
    "src = r'\\\\10.99.68.54\\Digital pathology image lib\\JHU\\Sashank Reddy\\240624 mouse skin breast exp\\Breast Exp\\HESS\\AlignIM\\run1\\Dalign_lbl__imdsf16__dsfout1_padsz200'\n",
    "dst = os.path.join(src,'for_slicer')\n",
    "if not os.path.exists(dst): os.mkdir(dst)"
   ],
   "id": "initial_id",
   "outputs": [],
   "execution_count": 2
  },
  {
   "metadata": {
    "ExecuteTime": {
     "end_time": "2024-08-13T19:24:00.556839Z",
     "start_time": "2024-08-13T19:23:52.645620Z"
    }
   },
   "cell_type": "code",
   "source": [
    "ims = [_ for _ in os.listdir(src) if _.endswith('png')]\n",
    "for idx,im in enumerate(ims):\n",
    "    fn,ext = os.path.splitext(im)\n",
    "    # fn = fn[5:]+fn[:4]+ext\n",
    "    fn = 'ex1_'+str(idx+1).zfill(5)+ext\n",
    "    shutil.copy(os.path.join(src,im),os.path.join(dst,fn))"
   ],
   "id": "d854b230146f9d08",
   "outputs": [],
   "execution_count": 3
  },
  {
   "metadata": {
    "ExecuteTime": {
     "end_time": "2024-09-03T16:02:02.620271Z",
     "start_time": "2024-09-03T16:02:02.458325Z"
    }
   },
   "cell_type": "code",
   "source": [
    "import os\n",
    "os.remove(r\"\\\\10.99.68.54\\Digital pathology image lib\\SenNet JHU TDA Project\\SN-JAX-PA-B1-SNP033\\WSI of direct HE stain\\Z79-2024-05-27 15.43.16.ndpi\")"
   ],
   "id": "fa228df9a472d716",
   "outputs": [
    {
     "ename": "PermissionError",
     "evalue": "[WinError 32] The process cannot access the file because it is being used by another process: '\\\\\\\\10.99.68.54\\\\Digital pathology image lib\\\\SenNet JHU TDA Project\\\\SN-JAX-PA-B1-SNP033\\\\WSI of direct HE stain\\\\Z79-2024-05-27 15.43.16.ndpi'",
     "output_type": "error",
     "traceback": [
      "\u001B[1;31m---------------------------------------------------------------------------\u001B[0m",
      "\u001B[1;31mPermissionError\u001B[0m                           Traceback (most recent call last)",
      "Cell \u001B[1;32mIn[1], line 2\u001B[0m\n\u001B[0;32m      1\u001B[0m \u001B[38;5;28;01mimport\u001B[39;00m \u001B[38;5;21;01mos\u001B[39;00m\n\u001B[1;32m----> 2\u001B[0m \u001B[43mos\u001B[49m\u001B[38;5;241;43m.\u001B[39;49m\u001B[43mremove\u001B[49m\u001B[43m(\u001B[49m\u001B[38;5;124;43mr\u001B[39;49m\u001B[38;5;124;43m\"\u001B[39;49m\u001B[38;5;130;43;01m\\\\\u001B[39;49;00m\u001B[38;5;124;43m10.99.68.54\u001B[39;49m\u001B[38;5;124;43m\\\u001B[39;49m\u001B[38;5;124;43mDigital pathology image lib\u001B[39;49m\u001B[38;5;124;43m\\\u001B[39;49m\u001B[38;5;124;43mSenNet JHU TDA Project\u001B[39;49m\u001B[38;5;124;43m\\\u001B[39;49m\u001B[38;5;124;43mSN-JAX-PA-B1-SNP033\u001B[39;49m\u001B[38;5;124;43m\\\u001B[39;49m\u001B[38;5;124;43mWSI of direct HE stain\u001B[39;49m\u001B[38;5;124;43m\\\u001B[39;49m\u001B[38;5;124;43mZ79-2024-05-27 15.43.16.ndpi\u001B[39;49m\u001B[38;5;124;43m\"\u001B[39;49m\u001B[43m)\u001B[49m\n",
      "\u001B[1;31mPermissionError\u001B[0m: [WinError 32] The process cannot access the file because it is being used by another process: '\\\\\\\\10.99.68.54\\\\Digital pathology image lib\\\\SenNet JHU TDA Project\\\\SN-JAX-PA-B1-SNP033\\\\WSI of direct HE stain\\\\Z79-2024-05-27 15.43.16.ndpi'"
     ]
    }
   ],
   "execution_count": 1
  },
  {
   "metadata": {},
   "cell_type": "code",
   "outputs": [],
   "execution_count": null,
   "source": "",
   "id": "fbafc2844d779578"
  }
 ],
 "metadata": {
  "kernelspec": {
   "display_name": "Python 3",
   "language": "python",
   "name": "python3"
  },
  "language_info": {
   "codemirror_mode": {
    "name": "ipython",
    "version": 2
   },
   "file_extension": ".py",
   "mimetype": "text/x-python",
   "name": "python",
   "nbconvert_exporter": "python",
   "pygments_lexer": "ipython2",
   "version": "2.7.6"
  }
 },
 "nbformat": 4,
 "nbformat_minor": 5
}
