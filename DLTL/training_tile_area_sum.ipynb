{
 "cells": [
  {
   "cell_type": "code",
   "id": "initial_id",
   "metadata": {
    "collapsed": true,
    "ExecuteTime": {
     "end_time": "2024-08-20T19:40:30.567611Z",
     "start_time": "2024-08-20T19:40:30.304315Z"
    }
   },
   "source": [
    "import os\n",
    "from PIL import Image\n",
    "Image.MAX_IMAGE_PIXELS = None\n",
    "\n",
    "src = r'\\\\10.99.68.54\\Digital pathology image lib\\HubMap Skin TMC project\\240418_DLTL_master\\DLTL_v73'\n",
    "srct = os.path.join(src,r'Im4CnnTrain\\grafted_images\\training\\label')\n",
    "srcg = os.path.join(src,r'simIm4CNN\\blend_fill01_cvar1_min10')\n",
    "\n",
    "srct,srcg"
   ],
   "outputs": [
    {
     "data": {
      "text/plain": [
       "('\\\\\\\\10.99.68.54\\\\Digital pathology image lib\\\\HubMap Skin TMC project\\\\240418_DLTL_master\\\\DLTL_v73\\\\Im4CnnTrain\\\\grafted_images\\\\training\\\\label',\n",
       " '\\\\\\\\10.99.68.54\\\\Digital pathology image lib\\\\HubMap Skin TMC project\\\\240418_DLTL_master\\\\DLTL_v73\\\\simIm4CNN\\\\blend_fill01_cvar1_min10')"
      ]
     },
     "execution_count": 1,
     "metadata": {},
     "output_type": "execute_result"
    }
   ],
   "execution_count": 1
  },
  {
   "metadata": {},
   "cell_type": "code",
   "outputs": [],
   "execution_count": null,
   "source": [
    "tiles = [_ for _ in os.listdir(srct) if _.endswith('tif')]\n",
    "gims = [_ for _ in os.listdir(srcg) if _.endswith('synAnn_001.tif')]"
   ],
   "id": "cb16abab0f635775"
  }
 ],
 "metadata": {
  "kernelspec": {
   "display_name": "Python 3",
   "language": "python",
   "name": "python3"
  },
  "language_info": {
   "codemirror_mode": {
    "name": "ipython",
    "version": 2
   },
   "file_extension": ".py",
   "mimetype": "text/x-python",
   "name": "python",
   "nbconvert_exporter": "python",
   "pygments_lexer": "ipython2",
   "version": "2.7.6"
  }
 },
 "nbformat": 4,
 "nbformat_minor": 5
}
