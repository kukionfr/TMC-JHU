{
 "cells": [
  {
   "cell_type": "code",
   "execution_count": 1,
   "outputs": [],
   "source": [
    "import pandas as pd"
   ],
   "metadata": {
    "collapsed": false,
    "ExecuteTime": {
     "end_time": "2024-05-01T22:59:49.160719300Z",
     "start_time": "2024-05-01T22:59:47.361435600Z"
    }
   },
   "id": "23b42fbda03c1b43"
  },
  {
   "cell_type": "code",
   "execution_count": 5,
   "outputs": [],
   "source": [
    "xlsx = r\"\\\\10.99.68.54\\Digital pathology image lib\\HubMap Skin TMC project\\bulk_slide_registration\\D006B008.xlsx\"\n",
    "xlsx = pd.read_excel(xlsx)"
   ],
   "metadata": {
    "collapsed": false,
    "ExecuteTime": {
     "end_time": "2024-05-01T23:02:19.160710800Z",
     "start_time": "2024-05-01T23:02:18.617613200Z"
    }
   },
   "id": "initial_id"
  },
  {
   "cell_type": "code",
   "execution_count": 6,
   "outputs": [],
   "source": [
    "xlsx.to_csv(r\"\\\\10.99.68.54\\Digital pathology image lib\\HubMap Skin TMC project\\bulk_slide_registration\\D006B008.tsv\", sep=\"\\t\", index=False) "
   ],
   "metadata": {
    "collapsed": false,
    "ExecuteTime": {
     "end_time": "2024-05-01T23:02:19.423910400Z",
     "start_time": "2024-05-01T23:02:19.160710800Z"
    }
   },
   "id": "baff246dc891e141"
  },
  {
   "cell_type": "code",
   "execution_count": 20,
   "outputs": [],
   "source": [
    "xlsx[0:40].to_csv(r\"C:\\Users\\kyu\\Desktop\\0to40.tsv\", sep=\"\\t\", index=False) \n",
    "xlsx[40:80].to_csv(r\"C:\\Users\\kyu\\Desktop\\40to80.tsv\", sep=\"\\t\", index=False) \n",
    "xlsx[80:].to_csv(r\"C:\\Users\\kyu\\Desktop\\80to100.tsv\", sep=\"\\t\", index=False) "
   ],
   "metadata": {
    "collapsed": false,
    "ExecuteTime": {
     "end_time": "2024-04-25T17:59:03.978443700Z",
     "start_time": "2024-04-25T17:59:03.960503700Z"
    }
   },
   "id": "999c2f09f39aee45"
  },
  {
   "cell_type": "code",
   "execution_count": null,
   "outputs": [],
   "source": [],
   "metadata": {
    "collapsed": false
   },
   "id": "2ff03dad8b0f92f7"
  }
 ],
 "metadata": {
  "kernelspec": {
   "display_name": "Python 3",
   "language": "python",
   "name": "python3"
  },
  "language_info": {
   "codemirror_mode": {
    "name": "ipython",
    "version": 2
   },
   "file_extension": ".py",
   "mimetype": "text/x-python",
   "name": "python",
   "nbconvert_exporter": "python",
   "pygments_lexer": "ipython2",
   "version": "2.7.6"
  }
 },
 "nbformat": 4,
 "nbformat_minor": 5
}
