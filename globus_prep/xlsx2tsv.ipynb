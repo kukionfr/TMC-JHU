{
 "cells": [
  {
   "cell_type": "code",
   "execution_count": 1,
   "outputs": [],
   "source": [
    "import pandas as pd"
   ],
   "metadata": {
    "collapsed": false,
    "ExecuteTime": {
     "end_time": "2024-04-25T15:18:11.940724900Z",
     "start_time": "2024-04-25T15:18:11.716341300Z"
    }
   },
   "id": "23b42fbda03c1b43"
  },
  {
   "cell_type": "code",
   "execution_count": 12,
   "outputs": [],
   "source": [
    "xlsx = r\"C:\\Users\\kyu\\Desktop\\D009.xlsx\"\n",
    "xlsx = pd.read_excel(xlsx)"
   ],
   "metadata": {
    "collapsed": false,
    "ExecuteTime": {
     "end_time": "2024-04-25T17:56:22.251586Z",
     "start_time": "2024-04-25T17:56:22.231652200Z"
    }
   },
   "id": "initial_id"
  },
  {
   "cell_type": "code",
   "execution_count": 19,
   "outputs": [
    {
     "data": {
      "text/plain": "          source_id     lab_id sample_category  organ_type  \\\n80  HBM425.FBFP.542  D009-S081         section         NaN   \n81  HBM425.FBFP.542  D009-S082         section         NaN   \n82  HBM425.FBFP.542  D009-S083         section         NaN   \n83  HBM425.FBFP.542  D009-S084         section         NaN   \n84  HBM425.FBFP.542  D009-S085         section         NaN   \n85  HBM425.FBFP.542  D009-S086         section         NaN   \n86  HBM425.FBFP.542  D009-S087         section         NaN   \n87  HBM425.FBFP.542  D009-S088         section         NaN   \n88  HBM425.FBFP.542  D009-S089         section         NaN   \n89  HBM425.FBFP.542  D009-S090         section         NaN   \n90  HBM425.FBFP.542  D009-S091         section         NaN   \n91  HBM425.FBFP.542  D009-S092         section         NaN   \n92  HBM425.FBFP.542  D009-S093         section         NaN   \n93  HBM425.FBFP.542  D009-S094         section         NaN   \n94  HBM425.FBFP.542  D009-S095         section         NaN   \n95  HBM425.FBFP.542  D009-S096         section         NaN   \n96  HBM425.FBFP.542  D009-S097         section         NaN   \n97  HBM425.FBFP.542  D009-S098         section         NaN   \n98  HBM425.FBFP.542  D009-S099         section         NaN   \n99  HBM425.FBFP.542  D009-S100         section         NaN   \n\n                                      sample_protocol description  \\\n80  https://dx.doi.org/10.17504/protocols.io.kqdg3...        Z241   \n81  https://dx.doi.org/10.17504/protocols.io.kqdg3...        Z244   \n82  https://dx.doi.org/10.17504/protocols.io.kqdg3...        Z247   \n83  https://dx.doi.org/10.17504/protocols.io.kqdg3...        Z250   \n84  https://dx.doi.org/10.17504/protocols.io.kqdg3...        Z253   \n85  https://dx.doi.org/10.17504/protocols.io.kqdg3...        Z256   \n86  https://dx.doi.org/10.17504/protocols.io.kqdg3...        Z259   \n87  https://dx.doi.org/10.17504/protocols.io.kqdg3...        Z262   \n88  https://dx.doi.org/10.17504/protocols.io.kqdg3...        Z265   \n89  https://dx.doi.org/10.17504/protocols.io.kqdg3...        Z268   \n90  https://dx.doi.org/10.17504/protocols.io.kqdg3...        Z271   \n91  https://dx.doi.org/10.17504/protocols.io.kqdg3...        Z274   \n92  https://dx.doi.org/10.17504/protocols.io.kqdg3...        Z277   \n93  https://dx.doi.org/10.17504/protocols.io.kqdg3...        Z280   \n94  https://dx.doi.org/10.17504/protocols.io.kqdg3...        Z283   \n95  https://dx.doi.org/10.17504/protocols.io.kqdg3...        Z286   \n96  https://dx.doi.org/10.17504/protocols.io.kqdg3...        Z289   \n97  https://dx.doi.org/10.17504/protocols.io.kqdg3...        Z292   \n98  https://dx.doi.org/10.17504/protocols.io.kqdg3...        Z295   \n99  https://dx.doi.org/10.17504/protocols.io.kqdg3...        Z298   \n\n    rui_location  \n80           NaN  \n81           NaN  \n82           NaN  \n83           NaN  \n84           NaN  \n85           NaN  \n86           NaN  \n87           NaN  \n88           NaN  \n89           NaN  \n90           NaN  \n91           NaN  \n92           NaN  \n93           NaN  \n94           NaN  \n95           NaN  \n96           NaN  \n97           NaN  \n98           NaN  \n99           NaN  ",
      "text/html": "<div>\n<style scoped>\n    .dataframe tbody tr th:only-of-type {\n        vertical-align: middle;\n    }\n\n    .dataframe tbody tr th {\n        vertical-align: top;\n    }\n\n    .dataframe thead th {\n        text-align: right;\n    }\n</style>\n<table border=\"1\" class=\"dataframe\">\n  <thead>\n    <tr style=\"text-align: right;\">\n      <th></th>\n      <th>source_id</th>\n      <th>lab_id</th>\n      <th>sample_category</th>\n      <th>organ_type</th>\n      <th>sample_protocol</th>\n      <th>description</th>\n      <th>rui_location</th>\n    </tr>\n  </thead>\n  <tbody>\n    <tr>\n      <th>80</th>\n      <td>HBM425.FBFP.542</td>\n      <td>D009-S081</td>\n      <td>section</td>\n      <td>NaN</td>\n      <td>https://dx.doi.org/10.17504/protocols.io.kqdg3...</td>\n      <td>Z241</td>\n      <td>NaN</td>\n    </tr>\n    <tr>\n      <th>81</th>\n      <td>HBM425.FBFP.542</td>\n      <td>D009-S082</td>\n      <td>section</td>\n      <td>NaN</td>\n      <td>https://dx.doi.org/10.17504/protocols.io.kqdg3...</td>\n      <td>Z244</td>\n      <td>NaN</td>\n    </tr>\n    <tr>\n      <th>82</th>\n      <td>HBM425.FBFP.542</td>\n      <td>D009-S083</td>\n      <td>section</td>\n      <td>NaN</td>\n      <td>https://dx.doi.org/10.17504/protocols.io.kqdg3...</td>\n      <td>Z247</td>\n      <td>NaN</td>\n    </tr>\n    <tr>\n      <th>83</th>\n      <td>HBM425.FBFP.542</td>\n      <td>D009-S084</td>\n      <td>section</td>\n      <td>NaN</td>\n      <td>https://dx.doi.org/10.17504/protocols.io.kqdg3...</td>\n      <td>Z250</td>\n      <td>NaN</td>\n    </tr>\n    <tr>\n      <th>84</th>\n      <td>HBM425.FBFP.542</td>\n      <td>D009-S085</td>\n      <td>section</td>\n      <td>NaN</td>\n      <td>https://dx.doi.org/10.17504/protocols.io.kqdg3...</td>\n      <td>Z253</td>\n      <td>NaN</td>\n    </tr>\n    <tr>\n      <th>85</th>\n      <td>HBM425.FBFP.542</td>\n      <td>D009-S086</td>\n      <td>section</td>\n      <td>NaN</td>\n      <td>https://dx.doi.org/10.17504/protocols.io.kqdg3...</td>\n      <td>Z256</td>\n      <td>NaN</td>\n    </tr>\n    <tr>\n      <th>86</th>\n      <td>HBM425.FBFP.542</td>\n      <td>D009-S087</td>\n      <td>section</td>\n      <td>NaN</td>\n      <td>https://dx.doi.org/10.17504/protocols.io.kqdg3...</td>\n      <td>Z259</td>\n      <td>NaN</td>\n    </tr>\n    <tr>\n      <th>87</th>\n      <td>HBM425.FBFP.542</td>\n      <td>D009-S088</td>\n      <td>section</td>\n      <td>NaN</td>\n      <td>https://dx.doi.org/10.17504/protocols.io.kqdg3...</td>\n      <td>Z262</td>\n      <td>NaN</td>\n    </tr>\n    <tr>\n      <th>88</th>\n      <td>HBM425.FBFP.542</td>\n      <td>D009-S089</td>\n      <td>section</td>\n      <td>NaN</td>\n      <td>https://dx.doi.org/10.17504/protocols.io.kqdg3...</td>\n      <td>Z265</td>\n      <td>NaN</td>\n    </tr>\n    <tr>\n      <th>89</th>\n      <td>HBM425.FBFP.542</td>\n      <td>D009-S090</td>\n      <td>section</td>\n      <td>NaN</td>\n      <td>https://dx.doi.org/10.17504/protocols.io.kqdg3...</td>\n      <td>Z268</td>\n      <td>NaN</td>\n    </tr>\n    <tr>\n      <th>90</th>\n      <td>HBM425.FBFP.542</td>\n      <td>D009-S091</td>\n      <td>section</td>\n      <td>NaN</td>\n      <td>https://dx.doi.org/10.17504/protocols.io.kqdg3...</td>\n      <td>Z271</td>\n      <td>NaN</td>\n    </tr>\n    <tr>\n      <th>91</th>\n      <td>HBM425.FBFP.542</td>\n      <td>D009-S092</td>\n      <td>section</td>\n      <td>NaN</td>\n      <td>https://dx.doi.org/10.17504/protocols.io.kqdg3...</td>\n      <td>Z274</td>\n      <td>NaN</td>\n    </tr>\n    <tr>\n      <th>92</th>\n      <td>HBM425.FBFP.542</td>\n      <td>D009-S093</td>\n      <td>section</td>\n      <td>NaN</td>\n      <td>https://dx.doi.org/10.17504/protocols.io.kqdg3...</td>\n      <td>Z277</td>\n      <td>NaN</td>\n    </tr>\n    <tr>\n      <th>93</th>\n      <td>HBM425.FBFP.542</td>\n      <td>D009-S094</td>\n      <td>section</td>\n      <td>NaN</td>\n      <td>https://dx.doi.org/10.17504/protocols.io.kqdg3...</td>\n      <td>Z280</td>\n      <td>NaN</td>\n    </tr>\n    <tr>\n      <th>94</th>\n      <td>HBM425.FBFP.542</td>\n      <td>D009-S095</td>\n      <td>section</td>\n      <td>NaN</td>\n      <td>https://dx.doi.org/10.17504/protocols.io.kqdg3...</td>\n      <td>Z283</td>\n      <td>NaN</td>\n    </tr>\n    <tr>\n      <th>95</th>\n      <td>HBM425.FBFP.542</td>\n      <td>D009-S096</td>\n      <td>section</td>\n      <td>NaN</td>\n      <td>https://dx.doi.org/10.17504/protocols.io.kqdg3...</td>\n      <td>Z286</td>\n      <td>NaN</td>\n    </tr>\n    <tr>\n      <th>96</th>\n      <td>HBM425.FBFP.542</td>\n      <td>D009-S097</td>\n      <td>section</td>\n      <td>NaN</td>\n      <td>https://dx.doi.org/10.17504/protocols.io.kqdg3...</td>\n      <td>Z289</td>\n      <td>NaN</td>\n    </tr>\n    <tr>\n      <th>97</th>\n      <td>HBM425.FBFP.542</td>\n      <td>D009-S098</td>\n      <td>section</td>\n      <td>NaN</td>\n      <td>https://dx.doi.org/10.17504/protocols.io.kqdg3...</td>\n      <td>Z292</td>\n      <td>NaN</td>\n    </tr>\n    <tr>\n      <th>98</th>\n      <td>HBM425.FBFP.542</td>\n      <td>D009-S099</td>\n      <td>section</td>\n      <td>NaN</td>\n      <td>https://dx.doi.org/10.17504/protocols.io.kqdg3...</td>\n      <td>Z295</td>\n      <td>NaN</td>\n    </tr>\n    <tr>\n      <th>99</th>\n      <td>HBM425.FBFP.542</td>\n      <td>D009-S100</td>\n      <td>section</td>\n      <td>NaN</td>\n      <td>https://dx.doi.org/10.17504/protocols.io.kqdg3...</td>\n      <td>Z298</td>\n      <td>NaN</td>\n    </tr>\n  </tbody>\n</table>\n</div>"
     },
     "execution_count": 19,
     "metadata": {},
     "output_type": "execute_result"
    }
   ],
   "source": [
    "xlsx[80:]"
   ],
   "metadata": {
    "collapsed": false,
    "ExecuteTime": {
     "end_time": "2024-04-25T17:58:40.107056800Z",
     "start_time": "2024-04-25T17:58:40.099083500Z"
    }
   },
   "id": "baff246dc891e141"
  },
  {
   "cell_type": "code",
   "execution_count": 20,
   "outputs": [],
   "source": [
    "xlsx[0:40].to_csv(r\"C:\\Users\\kyu\\Desktop\\0to40.tsv\", sep=\"\\t\", index=False) \n",
    "xlsx[40:80].to_csv(r\"C:\\Users\\kyu\\Desktop\\40to80.tsv\", sep=\"\\t\", index=False) \n",
    "xlsx[80:].to_csv(r\"C:\\Users\\kyu\\Desktop\\80to100.tsv\", sep=\"\\t\", index=False) "
   ],
   "metadata": {
    "collapsed": false,
    "ExecuteTime": {
     "end_time": "2024-04-25T17:59:03.978443700Z",
     "start_time": "2024-04-25T17:59:03.960503700Z"
    }
   },
   "id": "999c2f09f39aee45"
  },
  {
   "cell_type": "code",
   "execution_count": null,
   "outputs": [],
   "source": [],
   "metadata": {
    "collapsed": false
   },
   "id": "2ff03dad8b0f92f7"
  }
 ],
 "metadata": {
  "kernelspec": {
   "display_name": "Python 3",
   "language": "python",
   "name": "python3"
  },
  "language_info": {
   "codemirror_mode": {
    "name": "ipython",
    "version": 2
   },
   "file_extension": ".py",
   "mimetype": "text/x-python",
   "name": "python",
   "nbconvert_exporter": "python",
   "pygments_lexer": "ipython2",
   "version": "2.7.6"
  }
 },
 "nbformat": 4,
 "nbformat_minor": 5
}
