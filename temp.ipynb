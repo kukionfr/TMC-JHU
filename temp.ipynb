{
 "cells": [
  {
   "metadata": {
    "ExecuteTime": {
     "end_time": "2024-08-07T20:32:11.471243Z",
     "start_time": "2024-08-07T20:32:11.440099Z"
    }
   },
   "cell_type": "code",
   "source": [
    "import os\n",
    "from natsort import natsorted\n",
    "import pandas as pd\n",
    "src = r'\\\\10.99.68.54\\Digital pathology image lib\\JHU\\Won Jin Ho\\240516 HE destain  IMC run1\\20240501 HMP038-P07B1SB2\\align2HE\\roi1'\n",
    "pth_ims = [os.path.splitext(_)[0] for _ in os.listdir(src) if _.endswith(('.jpg','.tif','.png'))]\n",
    "pd.DataFrame({'channels':natsorted(pth_ims)}).to_csv(os.path.join(src,'channels.csv'),index=False)"
   ],
   "id": "80f2c5bd803131e1",
   "outputs": [],
   "execution_count": 4
  },
  {
   "metadata": {
    "ExecuteTime": {
     "end_time": "2024-08-07T20:43:26.469259Z",
     "start_time": "2024-08-07T20:43:21.814952Z"
    }
   },
   "cell_type": "code",
   "source": [
    "vipshome = r'\\\\10.99.68.51\\Kyu\\archive\\openslide_vips\\vips-dev-8.15\\bin'\n",
    "os.environ['PATH'] = vipshome + ';' + os.environ['PATH']\n",
    "import pyvips  #must use conda to install\n",
    "im = r\"\\\\10.99.68.54\\Digital pathology image lib\\JHU\\Won Jin Ho\\240516 HE destain  IMC run1\\20240501 HMP038-P07B1SB2\\align2HE\\roi1\\80ArAr_80ArAr.tif\"\n",
    "imobj = pyvips.Image.new_from_file(im)\n",
    "imobj.interpretation"
   ],
   "id": "302ec63fa84fa5",
   "outputs": [
    {
     "data": {
      "text/plain": [
       "'grey16'"
      ]
     },
     "execution_count": 5,
     "metadata": {},
     "output_type": "execute_result"
    }
   ],
   "execution_count": 5
  },
  {
   "metadata": {
    "ExecuteTime": {
     "end_time": "2024-08-07T20:43:38.001789Z",
     "start_time": "2024-08-07T20:43:37.989828Z"
    }
   },
   "cell_type": "code",
   "source": "imobj.interpretation == 'grey16'",
   "id": "aed923923b77753f",
   "outputs": [
    {
     "data": {
      "text/plain": [
       "True"
      ]
     },
     "execution_count": 6,
     "metadata": {},
     "output_type": "execute_result"
    }
   ],
   "execution_count": 6
  },
  {
   "metadata": {
    "ExecuteTime": {
     "end_time": "2024-08-07T20:46:12.169656Z",
     "start_time": "2024-08-07T20:46:12.144274Z"
    }
   },
   "cell_type": "code",
   "source": [
    "src = r'\\\\10.99.68.54\\Digital pathology image lib\\JHU\\Won Jin Ho\\240516 HE destain  IMC run1\\20240501 HMP038-P07B1SB2\\align2HE\\roi1'\n",
    "pth_ims = natsorted([os.path.join(src,_) for _ in os.listdir(src) if _.endswith(('.jpg','.tif','.png'))])\n",
    "pth_ims"
   ],
   "id": "ef6f5993540987ad",
   "outputs": [
    {
     "data": {
      "text/plain": [
       "['\\\\\\\\10.99.68.54\\\\Digital pathology image lib\\\\JHU\\\\Won Jin Ho\\\\240516 HE destain  IMC run1\\\\20240501 HMP038-P07B1SB2\\\\align2HE\\\\roi1\\\\80ArAr_80ArAr.tif',\n",
       " '\\\\\\\\10.99.68.54\\\\Digital pathology image lib\\\\JHU\\\\Won Jin Ho\\\\240516 HE destain  IMC run1\\\\20240501 HMP038-P07B1SB2\\\\align2HE\\\\roi1\\\\89Y_CD45.tif',\n",
       " '\\\\\\\\10.99.68.54\\\\Digital pathology image lib\\\\JHU\\\\Won Jin Ho\\\\240516 HE destain  IMC run1\\\\20240501 HMP038-P07B1SB2\\\\align2HE\\\\roi1\\\\100Ru_Ruthenium.tif',\n",
       " '\\\\\\\\10.99.68.54\\\\Digital pathology image lib\\\\JHU\\\\Won Jin Ho\\\\240516 HE destain  IMC run1\\\\20240501 HMP038-P07B1SB2\\\\align2HE\\\\roi1\\\\102Ru_Ruthenium.tif',\n",
       " '\\\\\\\\10.99.68.54\\\\Digital pathology image lib\\\\JHU\\\\Won Jin Ho\\\\240516 HE destain  IMC run1\\\\20240501 HMP038-P07B1SB2\\\\align2HE\\\\roi1\\\\113In_Collagen.tif',\n",
       " '\\\\\\\\10.99.68.54\\\\Digital pathology image lib\\\\JHU\\\\Won Jin Ho\\\\240516 HE destain  IMC run1\\\\20240501 HMP038-P07B1SB2\\\\align2HE\\\\roi1\\\\115In_Ecadherin.tif',\n",
       " '\\\\\\\\10.99.68.54\\\\Digital pathology image lib\\\\JHU\\\\Won Jin Ho\\\\240516 HE destain  IMC run1\\\\20240501 HMP038-P07B1SB2\\\\align2HE\\\\roi1\\\\120Sn_120Sn.tif',\n",
       " '\\\\\\\\10.99.68.54\\\\Digital pathology image lib\\\\JHU\\\\Won Jin Ho\\\\240516 HE destain  IMC run1\\\\20240501 HMP038-P07B1SB2\\\\align2HE\\\\roi1\\\\127I_127I.tif',\n",
       " '\\\\\\\\10.99.68.54\\\\Digital pathology image lib\\\\JHU\\\\Won Jin Ho\\\\240516 HE destain  IMC run1\\\\20240501 HMP038-P07B1SB2\\\\align2HE\\\\roi1\\\\131Xe_131Xe.tif',\n",
       " '\\\\\\\\10.99.68.54\\\\Digital pathology image lib\\\\JHU\\\\Won Jin Ho\\\\240516 HE destain  IMC run1\\\\20240501 HMP038-P07B1SB2\\\\align2HE\\\\roi1\\\\133Cs_133Cs.tif',\n",
       " '\\\\\\\\10.99.68.54\\\\Digital pathology image lib\\\\JHU\\\\Won Jin Ho\\\\240516 HE destain  IMC run1\\\\20240501 HMP038-P07B1SB2\\\\align2HE\\\\roi1\\\\138Ba_138Ba.tif',\n",
       " '\\\\\\\\10.99.68.54\\\\Digital pathology image lib\\\\JHU\\\\Won Jin Ho\\\\240516 HE destain  IMC run1\\\\20240501 HMP038-P07B1SB2\\\\align2HE\\\\roi1\\\\141Pr_SMA.tif',\n",
       " '\\\\\\\\10.99.68.54\\\\Digital pathology image lib\\\\JHU\\\\Won Jin Ho\\\\240516 HE destain  IMC run1\\\\20240501 HMP038-P07B1SB2\\\\align2HE\\\\roi1\\\\142Nd_Podoplanin.tif',\n",
       " '\\\\\\\\10.99.68.54\\\\Digital pathology image lib\\\\JHU\\\\Won Jin Ho\\\\240516 HE destain  IMC run1\\\\20240501 HMP038-P07B1SB2\\\\align2HE\\\\roi1\\\\143Nd_VIM.tif',\n",
       " '\\\\\\\\10.99.68.54\\\\Digital pathology image lib\\\\JHU\\\\Won Jin Ho\\\\240516 HE destain  IMC run1\\\\20240501 HMP038-P07B1SB2\\\\align2HE\\\\roi1\\\\144Nd_CD14.tif',\n",
       " '\\\\\\\\10.99.68.54\\\\Digital pathology image lib\\\\JHU\\\\Won Jin Ho\\\\240516 HE destain  IMC run1\\\\20240501 HMP038-P07B1SB2\\\\align2HE\\\\roi1\\\\145Nd_CD45RO.tif',\n",
       " '\\\\\\\\10.99.68.54\\\\Digital pathology image lib\\\\JHU\\\\Won Jin Ho\\\\240516 HE destain  IMC run1\\\\20240501 HMP038-P07B1SB2\\\\align2HE\\\\roi1\\\\146Nd_CD16.tif',\n",
       " '\\\\\\\\10.99.68.54\\\\Digital pathology image lib\\\\JHU\\\\Won Jin Ho\\\\240516 HE destain  IMC run1\\\\20240501 HMP038-P07B1SB2\\\\align2HE\\\\roi1\\\\147Sm_CD163.tif',\n",
       " '\\\\\\\\10.99.68.54\\\\Digital pathology image lib\\\\JHU\\\\Won Jin Ho\\\\240516 HE destain  IMC run1\\\\20240501 HMP038-P07B1SB2\\\\align2HE\\\\roi1\\\\148Nd_CK.tif',\n",
       " '\\\\\\\\10.99.68.54\\\\Digital pathology image lib\\\\JHU\\\\Won Jin Ho\\\\240516 HE destain  IMC run1\\\\20240501 HMP038-P07B1SB2\\\\align2HE\\\\roi1\\\\149Sm_CD137.tif',\n",
       " '\\\\\\\\10.99.68.54\\\\Digital pathology image lib\\\\JHU\\\\Won Jin Ho\\\\240516 HE destain  IMC run1\\\\20240501 HMP038-P07B1SB2\\\\align2HE\\\\roi1\\\\150Sm_PDL1.tif',\n",
       " '\\\\\\\\10.99.68.54\\\\Digital pathology image lib\\\\JHU\\\\Won Jin Ho\\\\240516 HE destain  IMC run1\\\\20240501 HMP038-P07B1SB2\\\\align2HE\\\\roi1\\\\151Eu_PD1.tif',\n",
       " '\\\\\\\\10.99.68.54\\\\Digital pathology image lib\\\\JHU\\\\Won Jin Ho\\\\240516 HE destain  IMC run1\\\\20240501 HMP038-P07B1SB2\\\\align2HE\\\\roi1\\\\152Sm_CD57.tif',\n",
       " '\\\\\\\\10.99.68.54\\\\Digital pathology image lib\\\\JHU\\\\Won Jin Ho\\\\240516 HE destain  IMC run1\\\\20240501 HMP038-P07B1SB2\\\\align2HE\\\\roi1\\\\153Eu_Tox-Tox2.tif',\n",
       " '\\\\\\\\10.99.68.54\\\\Digital pathology image lib\\\\JHU\\\\Won Jin Ho\\\\240516 HE destain  IMC run1\\\\20240501 HMP038-P07B1SB2\\\\align2HE\\\\roi1\\\\154Sm_DC-LAMP.tif',\n",
       " '\\\\\\\\10.99.68.54\\\\Digital pathology image lib\\\\JHU\\\\Won Jin Ho\\\\240516 HE destain  IMC run1\\\\20240501 HMP038-P07B1SB2\\\\align2HE\\\\roi1\\\\155Gd_FOXP3.tif',\n",
       " '\\\\\\\\10.99.68.54\\\\Digital pathology image lib\\\\JHU\\\\Won Jin Ho\\\\240516 HE destain  IMC run1\\\\20240501 HMP038-P07B1SB2\\\\align2HE\\\\roi1\\\\156Gd_CD4.tif',\n",
       " '\\\\\\\\10.99.68.54\\\\Digital pathology image lib\\\\JHU\\\\Won Jin Ho\\\\240516 HE destain  IMC run1\\\\20240501 HMP038-P07B1SB2\\\\align2HE\\\\roi1\\\\158Gd_pSTAT3.tif',\n",
       " '\\\\\\\\10.99.68.54\\\\Digital pathology image lib\\\\JHU\\\\Won Jin Ho\\\\240516 HE destain  IMC run1\\\\20240501 HMP038-P07B1SB2\\\\align2HE\\\\roi1\\\\159Tb_CD68.tif',\n",
       " '\\\\\\\\10.99.68.54\\\\Digital pathology image lib\\\\JHU\\\\Won Jin Ho\\\\240516 HE destain  IMC run1\\\\20240501 HMP038-P07B1SB2\\\\align2HE\\\\roi1\\\\160Gd_CD138.tif',\n",
       " '\\\\\\\\10.99.68.54\\\\Digital pathology image lib\\\\JHU\\\\Won Jin Ho\\\\240516 HE destain  IMC run1\\\\20240501 HMP038-P07B1SB2\\\\align2HE\\\\roi1\\\\161Dy_CD20.tif',\n",
       " '\\\\\\\\10.99.68.54\\\\Digital pathology image lib\\\\JHU\\\\Won Jin Ho\\\\240516 HE destain  IMC run1\\\\20240501 HMP038-P07B1SB2\\\\align2HE\\\\roi1\\\\162Dy_CD8.tif',\n",
       " '\\\\\\\\10.99.68.54\\\\Digital pathology image lib\\\\JHU\\\\Won Jin Ho\\\\240516 HE destain  IMC run1\\\\20240501 HMP038-P07B1SB2\\\\align2HE\\\\roi1\\\\163Dy_CD21.tif',\n",
       " '\\\\\\\\10.99.68.54\\\\Digital pathology image lib\\\\JHU\\\\Won Jin Ho\\\\240516 HE destain  IMC run1\\\\20240501 HMP038-P07B1SB2\\\\align2HE\\\\roi1\\\\164Dy_ARG1.tif',\n",
       " '\\\\\\\\10.99.68.54\\\\Digital pathology image lib\\\\JHU\\\\Won Jin Ho\\\\240516 HE destain  IMC run1\\\\20240501 HMP038-P07B1SB2\\\\align2HE\\\\roi1\\\\165Ho_CD33.tif',\n",
       " '\\\\\\\\10.99.68.54\\\\Digital pathology image lib\\\\JHU\\\\Won Jin Ho\\\\240516 HE destain  IMC run1\\\\20240501 HMP038-P07B1SB2\\\\align2HE\\\\roi1\\\\166Er_CD45RA.tif',\n",
       " '\\\\\\\\10.99.68.54\\\\Digital pathology image lib\\\\JHU\\\\Won Jin Ho\\\\240516 HE destain  IMC run1\\\\20240501 HMP038-P07B1SB2\\\\align2HE\\\\roi1\\\\167Er_GZMB.tif',\n",
       " '\\\\\\\\10.99.68.54\\\\Digital pathology image lib\\\\JHU\\\\Won Jin Ho\\\\240516 HE destain  IMC run1\\\\20240501 HMP038-P07B1SB2\\\\align2HE\\\\roi1\\\\168Er_KI67.tif',\n",
       " '\\\\\\\\10.99.68.54\\\\Digital pathology image lib\\\\JHU\\\\Won Jin Ho\\\\240516 HE destain  IMC run1\\\\20240501 HMP038-P07B1SB2\\\\align2HE\\\\roi1\\\\170Er_CD3.tif',\n",
       " '\\\\\\\\10.99.68.54\\\\Digital pathology image lib\\\\JHU\\\\Won Jin Ho\\\\240516 HE destain  IMC run1\\\\20240501 HMP038-P07B1SB2\\\\align2HE\\\\roi1\\\\171Yb_LAG3.tif',\n",
       " '\\\\\\\\10.99.68.54\\\\Digital pathology image lib\\\\JHU\\\\Won Jin Ho\\\\240516 HE destain  IMC run1\\\\20240501 HMP038-P07B1SB2\\\\align2HE\\\\roi1\\\\172Yb_CD15.tif',\n",
       " '\\\\\\\\10.99.68.54\\\\Digital pathology image lib\\\\JHU\\\\Won Jin Ho\\\\240516 HE destain  IMC run1\\\\20240501 HMP038-P07B1SB2\\\\align2HE\\\\roi1\\\\173Yb_DC-SIGN.tif',\n",
       " '\\\\\\\\10.99.68.54\\\\Digital pathology image lib\\\\JHU\\\\Won Jin Ho\\\\240516 HE destain  IMC run1\\\\20240501 HMP038-P07B1SB2\\\\align2HE\\\\roi1\\\\174Yb_HLADR.tif',\n",
       " '\\\\\\\\10.99.68.54\\\\Digital pathology image lib\\\\JHU\\\\Won Jin Ho\\\\240516 HE destain  IMC run1\\\\20240501 HMP038-P07B1SB2\\\\align2HE\\\\roi1\\\\175Lu_CD86.tif',\n",
       " '\\\\\\\\10.99.68.54\\\\Digital pathology image lib\\\\JHU\\\\Won Jin Ho\\\\240516 HE destain  IMC run1\\\\20240501 HMP038-P07B1SB2\\\\align2HE\\\\roi1\\\\176Yb_CD206.tif',\n",
       " '\\\\\\\\10.99.68.54\\\\Digital pathology image lib\\\\JHU\\\\Won Jin Ho\\\\240516 HE destain  IMC run1\\\\20240501 HMP038-P07B1SB2\\\\align2HE\\\\roi1\\\\190BCKG_190BCKG.tif',\n",
       " '\\\\\\\\10.99.68.54\\\\Digital pathology image lib\\\\JHU\\\\Won Jin Ho\\\\240516 HE destain  IMC run1\\\\20240501 HMP038-P07B1SB2\\\\align2HE\\\\roi1\\\\190Os_190Os.tif',\n",
       " '\\\\\\\\10.99.68.54\\\\Digital pathology image lib\\\\JHU\\\\Won Jin Ho\\\\240516 HE destain  IMC run1\\\\20240501 HMP038-P07B1SB2\\\\align2HE\\\\roi1\\\\191Ir_DNA1.tif',\n",
       " '\\\\\\\\10.99.68.54\\\\Digital pathology image lib\\\\JHU\\\\Won Jin Ho\\\\240516 HE destain  IMC run1\\\\20240501 HMP038-P07B1SB2\\\\align2HE\\\\roi1\\\\193Ir_DNA2.tif',\n",
       " '\\\\\\\\10.99.68.54\\\\Digital pathology image lib\\\\JHU\\\\Won Jin Ho\\\\240516 HE destain  IMC run1\\\\20240501 HMP038-P07B1SB2\\\\align2HE\\\\roi1\\\\195Pt_PM2.tif',\n",
       " '\\\\\\\\10.99.68.54\\\\Digital pathology image lib\\\\JHU\\\\Won Jin Ho\\\\240516 HE destain  IMC run1\\\\20240501 HMP038-P07B1SB2\\\\align2HE\\\\roi1\\\\196Pt_PM3.tif',\n",
       " '\\\\\\\\10.99.68.54\\\\Digital pathology image lib\\\\JHU\\\\Won Jin Ho\\\\240516 HE destain  IMC run1\\\\20240501 HMP038-P07B1SB2\\\\align2HE\\\\roi1\\\\198Pt_PM4.tif',\n",
       " '\\\\\\\\10.99.68.54\\\\Digital pathology image lib\\\\JHU\\\\Won Jin Ho\\\\240516 HE destain  IMC run1\\\\20240501 HMP038-P07B1SB2\\\\align2HE\\\\roi1\\\\204Pb_204Pb.tif',\n",
       " '\\\\\\\\10.99.68.54\\\\Digital pathology image lib\\\\JHU\\\\Won Jin Ho\\\\240516 HE destain  IMC run1\\\\20240501 HMP038-P07B1SB2\\\\align2HE\\\\roi1\\\\208Pb_208Pb.tif',\n",
       " '\\\\\\\\10.99.68.54\\\\Digital pathology image lib\\\\JHU\\\\Won Jin Ho\\\\240516 HE destain  IMC run1\\\\20240501 HMP038-P07B1SB2\\\\align2HE\\\\roi1\\\\HEroi.tif']"
      ]
     },
     "execution_count": 7,
     "metadata": {},
     "output_type": "execute_result"
    }
   ],
   "execution_count": 7
  },
  {
   "metadata": {},
   "cell_type": "code",
   "outputs": [],
   "execution_count": null,
   "source": "",
   "id": "246ae3653557e14a"
  }
 ],
 "metadata": {
  "kernelspec": {
   "display_name": "Python 3",
   "language": "python",
   "name": "python3"
  },
  "language_info": {
   "codemirror_mode": {
    "name": "ipython",
    "version": 2
   },
   "file_extension": ".py",
   "mimetype": "text/x-python",
   "name": "python",
   "nbconvert_exporter": "python",
   "pygments_lexer": "ipython2",
   "version": "2.7.6"
  }
 },
 "nbformat": 4,
 "nbformat_minor": 5
}
