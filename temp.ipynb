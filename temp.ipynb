{
 "cells": [
  {
   "cell_type": "code",
   "execution_count": 2,
   "id": "initial_id",
   "metadata": {
    "collapsed": true,
    "ExecuteTime": {
     "end_time": "2024-03-22T15:03:02.278805500Z",
     "start_time": "2024-03-22T15:03:02.269806300Z"
    }
   },
   "outputs": [
    {
     "data": {
      "text/plain": "['\\\\\\\\10.99.68.54\\\\Digital pathology image lib\\\\HubMap Skin TMC project\\\\HBM426.ZCWZ.889-D002\\\\raw\\\\images\\\\he.ndpi']"
     },
     "execution_count": 2,
     "metadata": {},
     "output_type": "execute_result"
    }
   ],
   "source": [
    "import glob, os\n",
    "src = r\"\\\\10.99.68.54\\Digital pathology image lib\\HubMap Skin TMC project\\HBM426.ZCWZ.889-D002\"\n",
    "impth = glob.glob(os.path.join(src,'raw\\images\\*.ndpi'))"
   ]
  },
  {
   "cell_type": "code",
   "execution_count": 6,
   "outputs": [
    {
     "data": {
      "text/plain": "['\\\\\\\\10.99.68.54\\\\Digital pathology image lib\\\\HubMap Skin TMC project\\\\HBM426.ZCWZ.889-D002\\\\raw\\\\images\\\\he.ndpi']"
     },
     "execution_count": 6,
     "metadata": {},
     "output_type": "execute_result"
    }
   ],
   "source": [
    "impth = glob.glob(os.path.join(src,'raw\\images\\*.ndpi'))\n",
    "impth"
   ],
   "metadata": {
    "collapsed": false,
    "ExecuteTime": {
     "end_time": "2024-03-22T15:07:25.072982300Z",
     "start_time": "2024-03-22T15:07:25.060039100Z"
    }
   },
   "id": "5f704f6afa1deff7"
  },
  {
   "cell_type": "code",
   "execution_count": 7,
   "outputs": [],
   "source": [
    "impth = impth[0]\n"
   ],
   "metadata": {
    "collapsed": false,
    "ExecuteTime": {
     "end_time": "2024-03-22T15:07:42.423372Z",
     "start_time": "2024-03-22T15:07:42.409372300Z"
    }
   },
   "id": "ceb073280e79d809"
  },
  {
   "cell_type": "code",
   "execution_count": 8,
   "outputs": [
    {
     "data": {
      "text/plain": "'\\\\\\\\10.99.68.54\\\\Digital pathology image lib\\\\HubMap Skin TMC project\\\\HBM426.ZCWZ.889-D002\\\\raw\\\\images\\\\he.ndpi'"
     },
     "execution_count": 8,
     "metadata": {},
     "output_type": "execute_result"
    }
   ],
   "source": [
    "impth"
   ],
   "metadata": {
    "collapsed": false,
    "ExecuteTime": {
     "end_time": "2024-03-22T15:07:48.479718500Z",
     "start_time": "2024-03-22T15:07:48.471718400Z"
    }
   },
   "id": "55da480e058bf680"
  },
  {
   "cell_type": "code",
   "execution_count": 4,
   "outputs": [
    {
     "data": {
      "text/plain": "'\\\\\\\\10.99.68.54\\\\Digital pathology image lib\\\\HubMap Skin TMC project\\\\HBM426.ZCWZ.889-D002\\\\lab_processed\\\\images\\\\HBM426.ZCWZ.889-D002.ome.tiff'"
     },
     "execution_count": 4,
     "metadata": {},
     "output_type": "execute_result"
    }
   ],
   "source": [
    "os.path.join(src,'lab_processed\\images\\{}.ome.tiff'.format(os.path.basename(src)))"
   ],
   "metadata": {
    "collapsed": false,
    "ExecuteTime": {
     "end_time": "2024-03-22T15:05:14.794454400Z",
     "start_time": "2024-03-22T15:05:14.779682900Z"
    }
   },
   "id": "5dd43c97676979c9"
  },
  {
   "cell_type": "code",
   "execution_count": 10,
   "outputs": [],
   "source": [
    "fn,ext = os.path.splitext(os.path.basename(impth))"
   ],
   "metadata": {
    "collapsed": false,
    "ExecuteTime": {
     "end_time": "2024-03-22T15:08:12.861807300Z",
     "start_time": "2024-03-22T15:08:12.845806700Z"
    }
   },
   "id": "cf17f90834b90ae9"
  },
  {
   "cell_type": "code",
   "execution_count": 11,
   "outputs": [
    {
     "data": {
      "text/plain": "'he'"
     },
     "execution_count": 11,
     "metadata": {},
     "output_type": "execute_result"
    }
   ],
   "source": [
    "fn"
   ],
   "metadata": {
    "collapsed": false,
    "ExecuteTime": {
     "end_time": "2024-03-22T15:08:14.270659500Z",
     "start_time": "2024-03-22T15:08:14.252659700Z"
    }
   },
   "id": "c7c4f4a0a9a60644"
  },
  {
   "cell_type": "code",
   "execution_count": 3,
   "outputs": [],
   "source": [],
   "metadata": {
    "collapsed": false,
    "ExecuteTime": {
     "end_time": "2024-03-22T15:47:16.285383200Z",
     "start_time": "2024-03-22T15:47:15.959984200Z"
    }
   },
   "id": "8ce38558f514fc6e"
  },
  {
   "cell_type": "code",
   "execution_count": 15,
   "outputs": [
    {
     "data": {
      "text/plain": "0.2203"
     },
     "execution_count": 15,
     "metadata": {},
     "output_type": "execute_result"
    }
   ],
   "source": [],
   "metadata": {
    "collapsed": false,
    "ExecuteTime": {
     "end_time": "2024-03-22T15:49:04.313078Z",
     "start_time": "2024-03-22T15:49:04.305077800Z"
    }
   },
   "id": "fbd9490b7cf28182"
  },
  {
   "cell_type": "code",
   "execution_count": null,
   "outputs": [],
   "source": [],
   "metadata": {
    "collapsed": false
   },
   "id": "b86d1a6170a11cd1"
  }
 ],
 "metadata": {
  "kernelspec": {
   "display_name": "Python 3",
   "language": "python",
   "name": "python3"
  },
  "language_info": {
   "codemirror_mode": {
    "name": "ipython",
    "version": 2
   },
   "file_extension": ".py",
   "mimetype": "text/x-python",
   "name": "python",
   "nbconvert_exporter": "python",
   "pygments_lexer": "ipython2",
   "version": "2.7.6"
  }
 },
 "nbformat": 4,
 "nbformat_minor": 5
}
